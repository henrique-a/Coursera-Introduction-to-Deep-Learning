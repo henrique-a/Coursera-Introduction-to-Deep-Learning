{
 "cells": [
  {
   "cell_type": "markdown",
   "metadata": {
    "slideshow": {
     "slide_type": "slide"
    }
   },
   "source": [
    "# MNIST digits classification with TensorFlow"
   ]
  },
  {
   "cell_type": "markdown",
   "metadata": {},
   "source": [
    "<img src=\"images/mnist_sample.png\" style=\"width:30%\">"
   ]
  },
  {
   "cell_type": "code",
   "execution_count": 2,
   "metadata": {},
   "outputs": [
    {
     "name": "stdout",
     "output_type": "stream",
     "text": [
      "We're using TF 1.13.1\n"
     ]
    },
    {
     "name": "stderr",
     "output_type": "stream",
     "text": [
      "Using TensorFlow backend.\n"
     ]
    }
   ],
   "source": [
    "import numpy as np\n",
    "from sklearn.metrics import accuracy_score\n",
    "from matplotlib import pyplot as plt\n",
    "%matplotlib inline\n",
    "import tensorflow as tf\n",
    "print(\"We're using TF\", tf.__version__)\n",
    "\n",
    "import sys\n",
    "sys.path.append(\"../..\")\n",
    "import grading\n",
    "\n",
    "import matplotlib_utils\n",
    "from importlib import reload\n",
    "reload(matplotlib_utils)\n",
    "\n",
    "import grading_utils\n",
    "reload(grading_utils)\n",
    "\n",
    "import keras_utils\n",
    "from keras_utils import reset_tf_session"
   ]
  },
  {
   "cell_type": "markdown",
   "metadata": {},
   "source": [
    "# Look at the data\n",
    "\n",
    "In this task we have 50000 28x28 images of digits from 0 to 9.\n",
    "We will train a classifier on this data."
   ]
  },
  {
   "cell_type": "code",
   "execution_count": 105,
   "metadata": {},
   "outputs": [],
   "source": [
    "import preprocessed_mnist\n",
    "X_train, y_train, X_val, y_val, X_test, y_test = preprocessed_mnist.load_dataset()"
   ]
  },
  {
   "cell_type": "code",
   "execution_count": 106,
   "metadata": {},
   "outputs": [
    {
     "name": "stdout",
     "output_type": "stream",
     "text": [
      "X_train [shape (50000, 28, 28)] sample patch:\n",
      " [[0.         0.29803922 0.96470588 0.98823529 0.43921569]\n",
      " [0.         0.33333333 0.98823529 0.90196078 0.09803922]\n",
      " [0.         0.33333333 0.98823529 0.8745098  0.        ]\n",
      " [0.         0.33333333 0.98823529 0.56862745 0.        ]\n",
      " [0.         0.3372549  0.99215686 0.88235294 0.        ]]\n",
      "A closeup of a sample patch:\n"
     ]
    },
    {
     "data": {
      "image/png": "[encoded data removed]",
      "text/plain": [
       "<Figure size 432x288 with 1 Axes>"
      ]
     },
     "metadata": {
      "needs_background": "light"
     },
     "output_type": "display_data"
    },
    {
     "name": "stdout",
     "output_type": "stream",
     "text": [
      "And the whole sample:\n"
     ]
    },
    {
     "data": {
      "image/png": "[encoded data removed]",
      "text/plain": [
       "<Figure size 432x288 with 1 Axes>"
      ]
     },
     "metadata": {
      "needs_background": "light"
     },
     "output_type": "display_data"
    },
    {
     "name": "stdout",
     "output_type": "stream",
     "text": [
      "y_train [shape (50000,)] 10 samples:\n",
      " [5 0 4 1 9 2 1 3 1 4]\n"
     ]
    }
   ],
   "source": [
    "# X contains rgb values divided by 255\n",
    "print(\"X_train [shape %s] sample patch:\\n\" % (str(X_train.shape)), X_train[1, 15:20, 5:10])\n",
    "print(\"A closeup of a sample patch:\")\n",
    "plt.imshow(X_train[1, 15:20, 5:10], cmap=\"Greys\")\n",
    "plt.show()\n",
    "print(\"And the whole sample:\")\n",
    "plt.imshow(X_train[1], cmap=\"Greys\")\n",
    "plt.show()\n",
    "print(\"y_train [shape %s] 10 samples:\\n\" % (str(y_train.shape)), y_train[:10])"
   ]
  },
  {
   "cell_type": "markdown",
   "metadata": {},
   "source": [
    "# Linear model\n",
    "\n",
    "Your task is to train a linear classifier $\\vec{x} \\rightarrow y$ with SGD using TensorFlow.\n",
    "\n",
    "You will need to calculate a logit (a linear transformation) $z_k$ for each class: \n",
    "$$z_k = \\vec{x} \\cdot \\vec{w_k} + b_k \\quad k = 0..9$$\n",
    "\n",
    "And transform logits $z_k$ to valid probabilities $p_k$ with softmax: \n",
    "$$p_k = \\frac{e^{z_k}}{\\sum_{i=0}^{9}{e^{z_i}}} \\quad k = 0..9$$\n",
    "\n",
    "We will use a cross-entropy loss to train our multi-class classifier:\n",
    "$$\\text{cross-entropy}(y, p) = -\\sum_{k=0}^{9}{\\log(p_k)[y = k]}$$ \n",
    "\n",
    "where \n",
    "$$\n",
    "[x]=\\begin{cases}\n",
    "       1, \\quad \\text{if $x$ is true} \\\\\n",
    "       0, \\quad \\text{otherwise}\n",
    "    \\end{cases}\n",
    "$$\n",
    "\n",
    "Cross-entropy minimization pushes $p_k$ close to 1 when $y = k$, which is what we want.\n",
    "\n",
    "Here's the plan:\n",
    "* Flatten the images (28x28 -> 784) with `X_train.reshape((X_train.shape[0], -1))` to simplify our linear model implementation\n",
    "* Use a matrix placeholder for flattened `X_train`\n",
    "* Convert `y_train` to one-hot encoded vectors that are needed for cross-entropy\n",
    "* Use a shared variable `W` for all weights (a column $\\vec{w_k}$ per class) and `b` for all biases.\n",
    "* Aim for ~0.93 validation accuracy"
   ]
  },
  {
   "cell_type": "code",
   "execution_count": 95,
   "metadata": {},
   "outputs": [
    {
     "name": "stdout",
     "output_type": "stream",
     "text": [
      "(50000, 784)\n",
      "(10000, 784)\n"
     ]
    }
   ],
   "source": [
    "X_train_flat = X_train.reshape((X_train.shape[0], -1))\n",
    "print(X_train_flat.shape)\n",
    "\n",
    "X_val_flat = X_val.reshape((X_val.shape[0], -1))\n",
    "print(X_val_flat.shape)"
   ]
  },
  {
   "cell_type": "code",
   "execution_count": 96,
   "metadata": {},
   "outputs": [
    {
     "name": "stdout",
     "output_type": "stream",
     "text": [
      "(50000, 10)\n",
      "[[0. 0. 0. 0. 0. 1. 0. 0. 0. 0.]\n",
      " [1. 0. 0. 0. 0. 0. 0. 0. 0. 0.]\n",
      " [0. 0. 0. 0. 1. 0. 0. 0. 0. 0.]] [5 0 4]\n"
     ]
    }
   ],
   "source": [
    "import keras\n",
    "\n",
    "# One hot encode\n",
    "# Converts a class vector (integers) to binary class matrix. E.g. for use with categorical_crossentropy.\n",
    "y_train_oh = keras.utils.to_categorical(y_train, 10)\n",
    "y_val_oh = keras.utils.to_categorical(y_val, 10)\n",
    "\n",
    "print(y_train_oh.shape)\n",
    "print(y_train_oh[:3], y_train[:3])"
   ]
  },
  {
   "cell_type": "code",
   "execution_count": 152,
   "metadata": {},
   "outputs": [],
   "source": [
    "# run this again if you remake your graph\n",
    "s = reset_tf_session()"
   ]
  },
  {
   "cell_type": "code",
   "execution_count": 153,
   "metadata": {},
   "outputs": [],
   "source": [
    "# Model parameters: W and b\n",
    "W = tf.get_variable(\"W\", dtype=tf.float32, shape=(784,10))\n",
    "b = tf.get_variable(\"b\", dtype=tf.float32, shape=(10))"
   ]
  },
  {
   "cell_type": "code",
   "execution_count": 154,
   "metadata": {},
   "outputs": [],
   "source": [
    "# Placeholders for the input data\n",
    "input_X = tf.placeholder(tf.float32, shape=(None,784))\n",
    "input_y = tf.placeholder(tf.float32, shape=(None,10))"
   ]
  },
  {
   "cell_type": "code",
   "execution_count": 162,
   "metadata": {},
   "outputs": [],
   "source": [
    "# Compute predictions\n",
    "logits = tf.add(tf.matmul(input_X, W), b) #logits for input_X, resulting shape should be [input_X.shape[0], 10]\n",
    "probas = tf.nn.softmax(logits) # apply tf.nn.softmax to logits\n",
    "classes = tf.argmax(probas, axis=1) # apply tf.argmax to find a class index with highest probability\n",
    "\n",
    "# Loss should be a scalar number: average loss over all the objects with tf.reduce_mean().\n",
    "# Use tf.nn.softmax_cross_entropy_with_logits on top of one-hot encoded input_y and logits.\n",
    "# It is identical to calculating cross-entropy on top of probas, but is more numerically friendly (read the docs).\n",
    "loss = tf.reduce_mean(tf.nn.softmax_cross_entropy_with_logits(labels=input_y, logits=logits)) # cross-entropy loss\n",
    "\n",
    "# Use a default tf.train.AdamOptimizer to get an SGD step\n",
    "step = tf.train.AdamOptimizer().minimize(loss)# optimizer step that minimizes the loss"
   ]
  },
  {
   "cell_type": "code",
   "execution_count": 163,
   "metadata": {
    "scrolled": false
   },
   "outputs": [
    {
     "data": {
      "text/html": [
       "<img src=\"data:image/jpeg;base64,/9j/4AAQSkZJRgABAQEASABIAAD/2wBDAAIBAQEBAQIBAQECAgICAgQDAgICAgUEBAMEBgUGBgYFBgYGBwkIBgcJBwYGCAsICQoKCgoKBggLDAsKDAkKCgr/2wBDAQICAgICAgUDAwUKBwYHCgoKCgoKCgoKCgoKCgoKCgoKCgoKCgoKCgoKCgoKCgoKCgoKCgoKCgoKCgoKCgoKCgr/wAARCAEgA2ADASIAAhEBAxEB/8QAHwAAAQUBAQEBAQEAAAAAAAAAAAECAwQFBgcICQoL/8QAtRAAAgEDAwIEAwUFBAQAAAF9AQIDAAQRBRIhMUEGE1FhByJxFDKBkaEII0KxwRVS0fAkM2JyggkKFhcYGRolJicoKSo0NTY3ODk6Q0RFRkdISUpTVFVWV1hZWmNkZWZnaGlqc3R1dnd4eXqDhIWGh4iJipKTlJWWl5iZmqKjpKWmp6ipqrKztLW2t7i5usLDxMXGx8jJytLT1NXW19jZ2uHi4%2BTl5ufo6erx8vP09fb3%2BPn6/8QAHwEAAwEBAQEBAQEBAQAAAAAAAAECAwQFBgcICQoL/8QAtREAAgECBAQDBAcFBAQAAQJ3AAECAxEEBSExBhJBUQdhcRMiMoEIFEKRobHBCSMzUvAVYnLRChYkNOEl8RcYGRomJygpKjU2Nzg5OkNERUZHSElKU1RVVldYWVpjZGVmZ2hpanN0dXZ3eHl6goOEhYaHiImKkpOUlZaXmJmaoqOkpaanqKmqsrO0tba3uLm6wsPExcbHyMnK0tPU1dbX2Nna4uPk5ebn6Onq8vP09fb3%2BPn6/9oADAMBAAIRAxEAPwD9/KKKKACiiigAooooAKKKKACiiigAooooAKKKKACiiigAooooAKKKKACiiigAooooAKKKKACiiigAooooAKKKKACiiigAooooAKKKKACiiigAooooAKKKKACiiigAooooAKKKKACiiigAooooAKKKKACiiigAooooAKKKKACiiigAooooAKKKKACiiigAooooAKKKKACiiigAooooAKKKKACiiigAooooAKKKKACiiigAooooAKKKKACiiigAooooAKKKKACiiigAooooAKKKKACiiigAooooAKKKKACiiigAooooAKKKKACiiigAooooAKKKKACiiigAooooAKKKKACiiigAooooAKKKKACvPfjt%2B1J8FP2b5NGsfil4g1Maj4ilnTQNB8OeF9R1zVNR8lVed4bHTbee5kjiVkMkixlI96biu5c%2BhV4N%2B0P8D/j5/wANJ%2BDv2tv2bLLwfrWueH/B2seFNX8KeOdcutLtLywv7mwuxcQXtraXj288U2noCpt3WVJSCUKK1ABpf/BTL9izWLvxPb2nxXv0h8FWsk/jLUrvwXrEFjoIS0iu9l5dy2iwWsrQzRskMjrJIWKorMrKL2n/APBQ/wDZK1HwBrXxFTx/q9vB4f1ay0vVdE1DwNrNrrkV5ebfscC6PNaLqEr3AYGER27eaAxTcFYjy2b9gH4y%2BMf2a/jn8NfGHinwppHin4o/FS38daHc6U1xeWFpeW0OiywQ3IkihkkiN3pRRwoyYHGDuJVaPi79i/8AaV%2BLmr/Ef45fG34S/CjWvFnjWx8KaPp/gKy%2BI2s2Wm6fY6Hcaldw3qa7b6al5DqDXOqTOksVoPJSKNFZiWcgHsviH9vv9mzwv4a8OeI9XvvG3meK0v5NE8P2vwm8SXGuSRWUscV3NJpMWntf28MLzQq8s0CIpmiy37xM%2Bmaz8RPBHhv4e3XxX8T%2BJbbSvDljo76rf6vqrfZYbSySIzPPMZdvlKsYLNvxtAOcYNfGHin9hH9s/WPgX4X8Nay3hfxV470a58RHRfGV/wDHbxNpGr%2BCLW%2BuUktLO11q1sJLzXIYkjhEy3qw/aTbReYCFGPUfjR/wTotfj1%2Bzb4n%2BHHxD%2BOfjW78d%2BMPhfH4Z17xS3jbWho818tpDE2oJoS3y2FuzzQLK3kRRSEPIBIrSM5AOkg/4KUfsZf8K58V/FbWPite6Jo3giysr7xQ/ifwdq%2Bk3NlZXkxhtb37LeWsVxJaSyK6pcxxtC3luQ%2BEYjj/AI3f8FZP2d/hn8ENU%2BMfgPRfFXiqbQfiD4X8L674Y/4QXXbHU7A6zqVrax3T2cmnNdeV5Fw88DeT5d48aW8MhknjB8r1T/gmJ8ZPHfwq8faR4i8DeG9G8Y%2BI9D0fR7DxDqv7RfjPxut3aWusW%2BoTRyf27AfsEZ8likUSzHe%2BGkxknv8A9qH9gz40/GD4g/F/4g%2BBfEPheOTxfB8LbzwlZ6tfXMSvf%2BE/EdzrUsN40dvJ5ENwGt4VljEzrl2MfyKrgHqFh/wUE/Zb1H4m2XwZh8T%2BJo/Fd5oun6xLoF38N9egudO0%2B9adILu/SSyU6dDut5VeS68pYiFEhQum6j4a/wCCmH7FPi3wZ4s%2BIWkfGC4TR/Bfgi68Zaxe6h4S1W0Fx4et0Z5tWsVntUbVLNVQ4nsxPGxZArEugbB0P9kP4ofEP4mfG74g/G9fD2gxfGj4O%2BHfCF1Y%2BE9duNRl0u4tE11Ltlnns7XzYwNViMT7FZikm6OPA3fN37Y37Kn7UOj/ALDHxS%2BJv7TF34AtIfhD%2BxT8QfBHhePwFqF5cNrzXukWxn1G6W5toBYqE0i3CWcbXAVppCZ22oKAPrPw9/wUl/Yy8TaHrHiPT/i1dQWehppU1/JqnhLVbJmtNSu1s7HUIUuLVGubCWdgovoQ9qoDO0qorMPT9E%2BLvw88R/FLX/gvofiH7T4k8LaXp%2Boa/YR2k22zgvmuBa7pinlF3%2ByzHy1cyKoRmVVkjLfJOofsz%2BIPFegeKfjb/wAFIvF/wz8J%2BBbf9nu5%2BHUlx4f8QTLay6beyQyXmq3k17BbpYOTBbCG2QzCAmT/AEiQsuOw/wCCPngP4u2f7I9r8f8A9pDUDf8AxJ%2BL15H4n8V6g9nJbtJCLSCy01fKl%2BeH/iX2lpI0TYKSzTZAYtkA%2BqqKKKACiiigAooooAKKKKACiiigAooooAKKKKACiiigAooooAKKKKACiiigAooooAKKKKACiiigAooooAKKKKACiiigAooooAK8R0j/AIKMfse6ld69Z6n8Urzw83hzw5c%2BINQk8a%2BEdV0GObSbd0jnv7WTUrWBb63R5IlaW2MqAyxjOXXPtN7FczWcsNndCCZ4mWKYx7/LYjhtp64POO9fmJq//BHL9uX4v6t4X1z43fHHQ31vw14P1Cz1DxRqHxW8TeJx4h1v7ZpV9a6idLvoobLSbaS50xfPsLIBRHJtWWQKgUA%2B2X/b/wD2YbX4aN8WNY8QeKtK0ttcg0axs9c%2BGWv2GqanfzIZIYLLTbixS9v2kQM6/Z4ZAyo7AkIxHReA/wBqz4H/ABH1%2By8J%2BHPEOqQ6vf8AhSfxJDpGteFdS0y7TTYbv7JLLLDeW8UkDrP8hhkVZe%2BzbzXk3xO%2BDn7bvxib4e/G3XPBvwq0P4h/Cjx1NrHh/wAM2vjjUr/Rdcs7jSbvTLmO4vn0qGaxmKXskkbpa3AjMQU%2BYJGxV%2BJPwG/bg1/4y%2BHf2mvA%2BjfCu08WX3ww1XwX4x0LUvFepSWGkLcX8N1a39lcJpwk1AxCN1kt5YrQSlxiWLHIB3Gk/wDBRv8AZA8R694F8LeFfiNqus6n8SfBuleLfBunaJ4H1m9nvND1F9lrqMiQWjNa2%2B7HmSTiNbcMpm8oMCdj4a/tufs3fFf4jXPwn8M%2BL9Ws9ft9LudThsvE/gzVtEW/sbeRI57uyl1G1gjv4I3liDy2zSIvmISQGUnyj9hT9hL4sfsw6/8ADjWfHniDw1dnwd%2Byl4R%2BGN%2B%2BkXM8rNq2lvM1zNF5kEe61bemxmKu235o0wK8a%2BGn/BKv9sbxP8UfC/ib9qb4w2eqRaf4A8V%2BF/GniaD4v%2BJNavPEUur2KW39p2umX0Men6EcqWNpaKUXKgTOI1WgD6l8J/8ABRf9kfxrosfirQfHeuf2Hcarpen6f4lvfh/rdrpWoy6lex2VlJaX09mlteQS3M0UYuIJHhBlQs4VgT6X4W%2BLvw88a/EDxT8LvC/iH7XrnguSzj8T2iWkwWxkuoPtEEZlZBG7tCVkKIzMiyRlgokTd8w%2BOPAnxF8K/wDBPbxp8CP%2BChnif4VeCPAWg/DSLQLb4meHfFt2GadI0trXUntLqzgTTZlmFvJDBHcXTGcoiOTtDdr/AMEr/h98WPDf7ImlfFX9oqwS3%2BJ3xYvpfHXxEhW3aL7Pf36xmG02N8yfZbGOys9pyQLXBoA%2BjaKKKACiiigAooooAKKKKACiiigAooooAKKKKACiiigAooooAKKKKACiiigAooooAKKKKACiiigAooooAKKKKACiiigAooooAKKKKACvF/j14/8A2i/%2BGi/AvwI%2BAvjPwV4fTX/BXiXXtX1Pxf4Lu9aJOnXeh28MMMdvqVj5Yb%2B1JWZmZ8%2BWgAXkn2ivCviLrSWX/BSr4Q6LIoxe/BP4hsjZ53R6t4NOPyZj%2BFJtLcuEJVHaPZv7tWX/APhB/wDgoX/0dB8Gf/DD6t/81FH/AAg//BQv/o6D4M/%2BGH1b/wCaivZqKZB4z/wg/wDwUL/6Og%2BDP/hh9W/%2Baij/AIQf/goX/wBHQfBn/wAMPq3/AM1FezUUAeM/8IP/AMFC/wDo6D4M/wDhh9W/%2Baij/hB/%2BChf/R0HwZ/8MPq3/wA1FezUUAeM/wDCD/8ABQv/AKOg%2BDP/AIYfVv8A5qKP%2BEH/AOChf/R0HwZ/8MPq3/zUV7NRQB4z/wAIP/wUL/6Og%2BDP/hh9W/8Amoo/4Qf/AIKF/wDR0HwZ/wDDD6t/81FezUUAeM/8IP8A8FC/%2BjoPgz/4YfVv/moo/wCEH/4KF/8AR0HwZ/8ADD6t/wDNRXs1FAHjP/CD/wDBQv8A6Og%2BDP8A4YfVv/moo/4Qf/goX/0dB8Gf/DD6t/8ANRXs1FAHjP8Awg//AAUL/wCjoPgz/wCGH1b/AOaij/hB/wDgoX/0dB8Gf/DD6t/81FWtf%2BN/7InwptNI0n46fGH4c%2BHNc1DRYNQNt4u8Q2Fpd3EcmR5%2B24dXZGdJAG6ZRhnggZv/AA1//wAE4P8Ao6L4I/8AhbaP/wDHa5p4zB05OM6sU10cop/c5JntYfhviTF0I1qGBrzhJXUo0a0otd1KNGUWtHqm1puWP%2BEH/wCChf8A0dB8Gf8Aww%2Brf/NRR/wg/wDwUL/6Og%2BDP/hh9W/%2Baiq//DX/APwTg/6Oi%2BCP/hbaP/8AHa9O0DRfhZ4r0Ky8U%2BFtJ8P6lpmpWkd1p2o6fBBNBdQSKHjljkQFXRlIZWUkEEEHBq6WJw9dtU5xlbtJP8mznx2TZzlcIzxuFq0lJ2TqU6lNN72TnTgm7a2Tbtra2p5z/wAIP/wUL/6Og%2BDP/hh9W/8Amoo/4Qf/AIKF/wDR0HwZ/wDDD6t/81FeefD7/go1%2Bxf4v8D2fjDxD8PfE%2Bgz6p441rwtomjXPwe1ue81a9064v45FtIodPZ7omHT552WJXMIBjk2SKyjsviF%2B1R%2By14FsvHtpeaJFp%2BseAvCGteIby28WeBNW0mzu7PTF/0ue3upNOcXtvEzRCSWyS6KiaNgj70V9jzTR/4Qf/goX/0dB8Gf/DD6t/8ANRR/wg//AAUL/wCjoPgz/wCGH1b/AOaiqth%2B1Z%2BxhqHxnk/Z%2BhvLf/hKLfxBHoN1H/wg1%2BLCHVX06PUo7FtQa0Fos72kqTJGZQzg4UFgVGz8a/ir8FfhJ%2Bzzrv7Q%2Bj%2BEdG8Uadpdg0mm2%2BhrbSDVbppRBBaxTAFA0lwyQ7idqsxLdDQBQ/4Qf/goX/0dB8Gf/DD6t/8ANRR/wg//AAUL/wCjoPgz/wCGH1b/AOain/s4fEC2%2BLl54y8D/FH4FeG/CvjDwH4gh0zX9K0fUV1WxkWextr23uba6ktLZ5Y3iuVU74I2WWKVcMoV38k%2BJn7aPiH4DeGfifL8cv2Q/BGneIPAHwsHjuy03QvHQvrO6sjPPAILy6k0uBrCbfA3Kw3EbKshR38phQB6x/wg/wDwUL/6Og%2BDP/hh9W/%2Baij/AIQf/goX/wBHQfBn/wAMPq3/AM1FeS/FD9uXw58L/gN8P/jFfeBf2fL1fiB8RH8M2uuWvxrT/hE7GJdN1G%2B%2B1S62dH%2B8W09oPKFtjzJkHmdRWv8AED9rnTPBX7Q3w8/Z0Pww%2BCcGp%2BNfBlprk194h%2BKq6fDPLLcrA9ppA/smRtXcZZ0JFuZF2Eqm75QD0P8A4Qf/AIKF/wDR0HwZ/wDDD6t/81FH/CD/APBQv/o6D4M/%2BGH1b/5qKyvFHxY8R/D79o7wl8IvH37Mvg%2BDw34/8QX2jeEPEGleJhdak9xbaXdakZrvT2sI0t7Zo7KaPzUuZisklurIvm5ThPF/7Y%2Bt/BzTfiNYfHb9kHwpp/iDwJ4D07xbHY%2BFPFo1WyexvLy4tF%2B23Mmm272HlPbSSyuIZo1gjlkRpPKdKAPUP%2BEH/wCChf8A0dB8Gf8Aww%2Brf/NRR/wg/wDwUL/6Og%2BDP/hh9W/%2BaivH7H/gob8Obr9kfxX%2B0bZfAXwh4g1bRvE154f8J6V4H8Uw6ro3jO8gs1vGl03VvscXm2kcf2j7RP8AZ8wHTr3CS%2BSN/R/GL9o74i/D/wAF/Df4m%2BCP2SPh5ruifES/8M6daWt947mstVjvtWniR0itk0aaKaO2hke5eRp4y0dvMdi7RuAO9/4Qf/goX/0dB8Gf/DD6t/8ANRR/wg//AAUL/wCjoPgz/wCGH1b/AOaiqXg74m61r/7Ufj39m7X/ANm7wnpqeG/CGneIfC2txa%2BLg6zBd3N9bKtzD9hX7CRJYt917jKyA4BG0%2BQ%2BOv25vG/wi0D4w6n8WP2RPhbYP8J7nwnY3F/p/wAT5ZdKnvtau4omguru40OBrIWltc2d3K/lTAx3ceAOSAD2v/hB/wDgoX/0dB8Gf/DD6t/81FH/AAg//BQv/o6D4M/%2BGH1b/wCaivJ/i5%2B3DoPwp%2BH3wo8U3XgH9n6Wb4o6tqFpBrl18aUt/CtslvBLNG8OsHR2N08ojVAgt0xIzKGbbltT4w/tmeGPg98S9R8N6x8APB7%2BG/CCeFV%2BIXiKfxNHDNYya9emztW0%2B1Nkf7QhjkAZ5HltiV3CJJZEMdAHon/CD/8ABQv/AKOg%2BDP/AIYfVv8A5qKP%2BEH/AOChf/R0HwZ/8MPq3/zUV5b8MP26fB/xQ/a21j9lnRv2f/B7Xunaj4gsfsVv4qil1/TzpbhFvNU0o2S/2dYXhKG1ufPl81Li2bYPNITq/hR%2B014W1r9nHxb8c/jn8AdD8Lah4N8War4e1Hw34dv11o3l7aXv2OGC0me1tWnmuZjFFFF5akyyqgLZBIB0/wDwg/8AwUL/AOjoPgz/AOGH1b/5qKoeB/HH7Vng79qzw58Efjd8R/h74m0bxN8PfEOuQzeFfh5faLdWl1pt9oluis9xq98ksbpqkpKhEYNEhDYyDP8As3fE6x/aJ/ZPsPj9qXwc03wZrV9Y6ibjRrG9S8Om3Vpc3FuypdLDD5uHgLBgi9enrY8cf8pC/hf/ANkZ8ef%2BnbwhQB7NRRRQAUUUUAFFFFABXzj8JvFX7d/x10fXvHfhf43/AAk0DS7f4heKtD0vSr/4P6pf3EVrpevX%2BmQtLcJ4igWWR47NXZlijXc5AUACvo6vGf2D/wDkiGuf9lm%2BI/8A6mut0AH/AAg//BQv/o6D4M/%2BGH1b/wCaij/hB/8AgoX/ANHQfBn/AMMPq3/zUV7NRQB4z/wg/wDwUL/6Og%2BDP/hh9W/%2Baij/AIQf/goX/wBHQfBn/wAMPq3/AM1FezUUAeM/8IP/AMFC/wDo6D4M/wDhh9W/%2Baij/hB/%2BChf/R0HwZ/8MPq3/wA1FezUUAeM/wDCD/8ABQv/AKOg%2BDP/AIYfVv8A5qKP%2BEH/AOChf/R0HwZ/8MPq3/zUV7NRQB4z/wAIP/wUL/6Og%2BDP/hh9W/8Amoo/4Qf/AIKF/wDR0HwZ/wDDD6t/81FezUUAeM/8IP8A8FC/%2BjoPgz/4YfVv/moo/wCEH/4KF/8AR0HwZ/8ADD6t/wDNRXs1FAHjP/CD/wDBQv8A6Og%2BDP8A4YfVv/moo/4Qf/goX/0dB8Gf/DD6t/8ANRXs1FAHjP8Awg//AAUL/wCjoPgz/wCGH1b/AOaij/hB/wDgoX/0dB8Gf/DD6t/81FezUUAeM/8ACD/8FC/%2BjoPgz/4YfVv/AJqKP%2BEH/wCChf8A0dB8Gf8Aww%2Brf/NRXs1FAHjP/CD/APBQv/o6D4M/%2BGH1b/5qKP8AhB/%2BChf/AEdB8Gf/AAw%2Brf8AzUV7NRQB4z/wg/8AwUL/AOjoPgz/AOGH1b/5qKP%2BEH/4KF/9HQfBn/ww%2Brf/ADUV7NRQB4z/AMIP/wAFC/8Ao6D4M/8Ahh9W/wDmoo/4Qf8A4KF/9HQfBn/ww%2Brf/NRXs1FAHjP/AAg//BQv/o6D4M/%2BGH1b/wCaij/hB/8AgoX/ANHQfBn/AMMPq3/zUV7NWbL4z8Hwa2PDM/ivTU1IgEae9/GJyD38vO79KTlGO7E5Rju7Hlf/AAg//BQv/o6D4M/%2BGH1b/wCaij/hB/8AgoX/ANHQfBn/AMMPq3/zUV7NWB4q%2BKvwv8Chm8bfEjQNHC/eOq6xBb4%2BvmMKUpxgrydl56fmKc4U43m0l5tL87HnH/CD/wDBQv8A6Og%2BDP8A4YfVv/moo/4Qf/goX/0dB8Gf/DD6t/8ANRUmu/8ABQz9hDw5K0Grfti/DRZE%2B/HD40spWX2IjkJB9q5bVf8AgrZ/wTf0bP2z9rnws%2BOv2R5p/wD0VG2a455nltP4q8F/2/H/AOSPPqZzk9L48TTX/b8P/kjpf%2BEH/wCChf8A0dB8Gf8Aww%2Brf/NRR/wg/wDwUL/6Og%2BDP/hh9W/%2BaivMtd/4Lj/8EwNDUj/hpUXkg6RWPhTVZM/8C%2Byhf1rjNY/4OHP%2BCdOmMy2Or%2BMtRx0Nn4XK7vp5sifrXLPiHIqfxYqn/wCBJ/lceHzbLcZLlw1VVH/cUqn/AKbhUPoD/hB/%2BChf/R0HwZ/8MPq3/wA1FH/CD/8ABQv/AKOg%2BDP/AIYfVv8A5qK%2Bal/4OI/2R9Vyvg74C/GPWWP3GsvC9mUb8fthP6Uv/D9OXWP%2BRH/4J1/G7Vc/c/4kG3P/AH7ElY/6z5C/hrp%2Bik/ygzv/ANp6Yet/4T4j9cPH8z6U/wCEH/4KF/8AR0HwZ/8ADD6t/wDNRR/wg/8AwUL/AOjoPgz/AOGH1b/5qK%2BcrT/gsF%2B1Rqp3aL/wR4%2BNUyE/JJLY3can8TYkfrWnZf8ABTv9vbWGC6N/wRq%2BIRz0/tDxULT/ANGWPFUuIsql8Lk/SnV/%2BVmNSvOj/Eo1V60ai/8AbT3r/hB/%2BChf/R0HwZ/8MPq3/wA1FW/2VviN8afGGsfFDwJ8dNf8L6tqngH4hRaHZ6r4T8NXOk291ay6Do%2Bpqz29xe3jLIsmoyoWEu0rGh2qc58D1z9vX/gqWdN%2B06F/wR71C3cjhrr4pWdx/wCQ0gRv1rrv%2BCWnxC%2BM3xVs/jj49/aC%2BFI8EeL7/wCNCf2t4XEpf7Fs8K%2BHY4vmJOd8KRyZ/wCmldeFzPDYyt7Omp3tf3oTivvlFK%2Buw8PisNiYNwn7y%2By4zjL1tKmlb/t6%2Bq06r6pooor0TcKKKKACiiigAooooAKKKKACiiigAooooAKKKKACiiigAooooA5r4xSfE2H4ZaxP8HNa0HTvEsVrv0y98TaVNfWMRVgXMsEE9vJKPLD4VZY/mK5bGa4r4CfFH4wftDfsR/D/AONfh%2B58NaP418cfDjRNcaW80q4uNLs7y8soLiU/ZluEmkiUyPtj89WICgydWrvfiZ4O1T4g%2BA9T8F6N8QdZ8K3Go2/kp4g8Pw2cl5ZgkFmiW9t7i3JIBU%2BZC4wxwAcEeS%2BEv2Gp/Bn7JafseaT%2B1v8AFddBtfBCeFdK1%2BGfRLbWNNsY0SKJ4Li20uNVmSBBCspQnaS5zLiUAGt%2Bxp8bviL8bfCni%2BT4i3Xh/VJfCvj6%2B8O6f4t8J6bPZ6Z4jitooDLdW8E89w8QiuZLmydfPlBmsJSrYIUePfFv45fCvxN/wWQ%2BAfw58EfE7w/rGtaR8OPiRY%2BJtH0rWYLi60mR38NzRx3UUbl7dmFs5USBS3ltjODX0P8As5fA2P8AZy%2BFtj8I9P8AiPrXiTTNJVINFbWtN0m0OnWaRRxRWcMelWVnAsKBMrmMvl2y5AVV%2Ba/2z9YbR/8AgsZ%2BxaWbEd34f%2BJ1tIf96w0cqP8AvpVrlxk/Z0Obzj%2BMor9T3eG8N9bzT2XenWf/AIDQrS/9tPs%2Biiiuo8IKKKKACiiigAooooAKKKKACiiigAooooA8z1L9mT9m340aPoPin4xfs9%2BB/Fmp2/h%2B1tYNR8S%2BE7O/njgVS6xLJPGzBAzuwUHALscZJql/wwP%2Bwr/0ZZ8Jf/Dc6Z/8Yrk/i9/wUg/Yv/Y%2Bl8OfDT9ov4y/8I7rd94Us9TtbL/hHdRu99q%2B%2BJZN9rbyIMvDKNpYN8ucYIJ5D/h%2Bb/wSy/6Oi/8ALJ1z/wCQq8XEYvh2nXlGvOkpp683s7387q9/U0XiHiMqX1SOcTpKnpyLE1IKPWyiq8VHfZRW%2B2p63/wwP%2Bwr/wBGWfCX/wANzpn/AMYr07QNA0LwpoVl4W8LaLaabpmm2kdrp2nafbLDBawRqEjijjQBURVAVVUAAAADAr5W/wCH5v8AwSy/6Oi/8snXP/kKvp7wD468K/FDwJovxL8C6p9u0TxFpFtqej3vkPF9otbiJZYpNkiq6bkdTtZQwzggHiujA4jJ605LByptpa8nLe3nypaX7ilxdV4k/dTzGWJ5NbOvOry30vaVWpa%2B10lfa/Q8J%2BGH7C/ivwB488Ka1qfxn03UNB8D/FDxV4v8NaXD4Qkguwuu/wBrPPaXFyb10lMUuqsUlSGL93CEZCzGQeR61/wRhl17xT498SXnx28OxXHjLwF4/wDC/wDbVr8L0TW7mPxNIri41XUTfF9Uey2iOFAtunljbtTAYe7WH7fnwj1fTrGbSfCniOa%2ButF8W6ld6TL9gt5dLTw5erYajHdyT3aQQMLt0gRml8tiSxdY1d14Twb/AMFPvA/x2m%2BHGo/ASCzlsdd%2BM%2Bo%2BBvG8F/fWOpS6ebfwbq/iFDbXOlX1xZyuxtLA70nmQJNNGwSVT5XpEHXSfsMB/EOq6%2BPihg6n8ddJ%2BI5iGif6v7FpGn6b9gz5/wA2/wCweZ52Bt83b5bbdzd58a/gdqH7QH7POu/BLx/4xit7/WrBo08QaHpZgFldJKJrW6igllly0MqQvtZ2V2jOcBsD548W/wDBVaV/gh4U8a/CL4U6/wCI73VIPh7J4j8Uy%2BH4LfRtFbxJd6cqQXMA1JrmO4a1vfNVIDdRQNNB5szKSW%2BkPjD8ePD/AMJPgF48%2BPt1o2pXNj4C8P6xql9ZXGnzWktwNOhlllWMTopZW8lgkqho3BDIzKQSAc78Bf2f/ih8KdX8ReO/Gvxa0PxD4q8ceLYtW8aajZeD5rC0ktYNMisLeysbdr6ZrTZ9nglMkstyWZrgbVEqeTxf7OP7Jf7U/wAD9F8cX/iz9pj4f%2BLPGPjW7Oo3fjO5%2BEV7BPNfBwIRcxnXZFls4IALeG0hNuI1AYOXaRn2/wBlr42fH7xD8VPE3wG/aVHhG58RaN4K8O%2BK7XUvBelXNlaC11WTUoDZNHc3Nw7y28%2BlzZnDosqTRkRRkMtc14y/aJ/ao%2BGXx41/4R31z4G8aSyfC/xF4u0fSvC/hS/t73w8bSaGPTIb9mvpxei8Mk0aGNLV2eym8tHVXMQBt%2BBv2Wv2hvhh4d8W6v4I%2BPngYeNvH/j5/E/i3VtV%2BFdxNo5Y6Xa6asNnp0WrxS258qyt2aSS6nZ3acsMSKI%2Be8R/8E%2BfHV7%2By5oX7FHhj476JZ/DmDwjbaF4oN/8Pzc61eqkpkllsbtL6K304kHESm1nFuVVo%2BVXHHaf%2B2/%2B01f/ALId/wDEPQde0TXviZp/ijwtZeI/Ddp%2Bzx4ptLvwpZ6jeWcd5LcaBJfvqV95NvLdTxyxNEkggJUMEaux%2BIX7VHxq0v8AZ2%2BGXx8%2BEnxS%2BHfivT9S%2BKHhvwz45vJPAepWP22LU/FVhoM8Vpay6iZdLurY3U4kS6NwyzWxRolJYKAdN4Z/Zc%2BPWl/tl65%2B1H4o%2BPXhHXtLv7Q6ZoGgX/w5uhfeG9J8pSbKzvV1byUMt0iXFxMbQyT7I4yVSGARcL4L/wCCd/x1X4L%2BPfhr8Y/2o/DHiPX/AB3rNnruo%2BOtL%2BGFxYX91qtrewXVv9tSbV7mK5sEW2htRYRrAgtg0YYb2Y6XxX/bG%2BNnhH42%2BJJ/DGm%2BFj8O/AHxL8HeBvFVhfabcvrGo32vSaan2u2uVuVht4rYa1p7mJ4JmmCXADxkJmj8Uf2tf2q/gN47%2BIPg3V9I8G/Eq78P/BjXPHVhpHgnw3f2Nzo09tPDHpunXpe7uzdm%2BV7sxyRRwOf7LuNsL7gEAH67/wAEsPBnxU8K%2BNr/AOPXxM1LUfHnjPWNV1M%2BKPAd/rHhWz0ye%2B0jT9JdIbKx1TdNCYNMtWkjubibzZPNJKrJsHoHhL9jHT/C978ELSb4iX%2Bo6J8EtFvE07TNS8%2B6m1LV5LFNPg1J7m4uJJF8m1l1KMRN5hP24YkUQhX8AtP%2BConjK50HXvDOj/Gn4R67LofjfQNN1P42aXoV2vg7SNK1Sxu7hb25g/tJy3l3NlJYswvliEtzAXeMrJEu9qf7ePx/8T/sKS/tr/C3xV8N1t/DU3iHTdR0XUfCmo3B8a6tpus3OlW1tpTpfRvZDUJ7VRbh47yQNewrskKneAex6B%2Bzv8eNK/bd1v8Aah1D43%2BEbjwvrPhKy8OnwdD8PLqK/itbSa9uIH/tI6q0bS%2BffSFz9kCtGioFRsyG38Pv2cfiH8Ivhh4w0r4efFTRH8ceMfH2o%2BKdQ8WeI/CEt5ZtNc3qtFC9lFewO629hFbWMbC5U4tY5DnBQ%2BdeLP2yvjjo/wAcNau7HRPC8Xw58I/F7w18N/EGlXWnXD63c6hrFnpcqX8F2lyII4YZ9bsYTA1u7OIrhxKnyKW/sj/tPftE/Hx/FXgn4h/EHwn4X8ex2uoT%2BH/Bur/BLXtKm0%2B2i1CW2hv2e%2B1JF1u1KCAtJZ%2BSgaZQZF3qKAOg8M/si/Hr4dfCnVPBXw5%2BPfgeLWfFviXWta8c6lr3wnlvtPuptRYGSOxsE1WEWcagcrNLdeYWZpN7MxPP%2BL/%2BCYvhXxbo/wAKvhlfa34QvPBvwv8ADOgaNb3mt/DuO%2B8XXUOlSRuI49ca6AtILgQQJPGlqzupn2yIZQY%2BHuf25/2vPDPwp1bxd4h1XwNq0M37QNz4A8O%2BLfDHwo1m8BsLKznS9vV0G11S4vdTlXVrO8shFazgrFG10wMcUqig/wDwUq/aY8Q/Aq4%2BMng7w34EiPw/%2BCD/ABM%2BI9neaddzHWrQXmpQx2FgFu0Ol3EkOj3zuLn7S1tK8UEkZZJGAB678Pv2EPGXgr40aV49vvjnYah4d8LeNvFXizwjo/8AwhzRanFqOuteNcR32o/bGF5aRfb5xHCkEDYjtt8jmAManwq/4J7%2BIJ/AfiP4eftbfF7TfG1lqvxJn8caJcfDzSta8E3ek6pPPPNK32m11ueaRA0w8oK8ewKd3mkqUraR%2B2Z8adT%2BPFlejT/Cp%2BF%2Bq/GO7%2BG1lZLplyNbju4NNnn/ALUe5Nz5LRNeW0lt9lFuGEbJN55OYa3/ANlT9o340%2BPf2iPiJ%2Bz38W9R0XWG8FaVpt0mv6X8OdV8J77ie5voJYI7PVLq5kvrcfZEePUbdzay%2BYyIWaNjQBu/s1/staN%2Bxv8Asn3PwK0Pxpq/iCKyXWLxtT1rU7y6ldrmaefaDd3Fw6KokC4D4ZlZ8Bnan%2BOP%2BUhfwv8A%2ByM%2BPP8A07eEK9S8c/8AIk6x/wBgq4/9FtXlvjj/AJSF/C//ALIz48/9O3hCgD2aiiigAoorjvjx8bPDX7P3w6l%2BInibSNT1TdqVjpmmaLokMcl7qmoXt1FaWlpAsskcfmSTzRrukdI0BLu6IrMADsaK8dh/bY%2BGS/s76r%2B0Lq3hPxLp66Jr7eH9V8H3VnbtrEGt/wBoJp0embIp3gaaW6lhjjdZjA4njkEvltvqDTP2x7zxH4S1DVvBf7LPxK1vxDoPiaTQvFngSwbQ11TQbtbSG9H2mSbVI7Jle2urSZDDcyl1uo8DO4KAe014z%2Bwf/wAkQ1z/ALLN8R//AFNdbr0L4OfFjwZ8ePhL4Z%2BNnw6vZrjQPFug2mr6NNcW7RSPbXESyxl42%2BZG2sMqeQcg9K89/YP/AOSIa5/2Wb4j/wDqa63QB7NRRRQAUUUUAFFFFABRRRQAUVy3xP8Ajj8GPgnpn9s/GH4seHPC1qVJSbxBrUFoH/3fNYbj7DJNfPniX/gs1%2Bw7balL4c%2BFfiXxN8S9ajHGjfDrwfeahLIewVyiRNk8DDmuPEZjgMI7VqsYvs2r/dq/wPPxebZZgZcuIrRi%2Bzkr/KKvJ/KJ9WUV8fJ8Q/8AgrH%2B1TIrfDP4Y%2BGv2evC0xzHrfjcLrPiGVOzpYriGA%2Bsc/Ixw1WR/wAEyfjB4%2B/eftFf8FMPjV4j3cz2fhTUYPDlnN6hobZHyvsGH1rlWZV62uGw85LvK1Nf%2BT%2B9/wCSI41m%2BJxGuEws5r%2BaXLSi/Tn9%2B3nyI%2BqfEHinwx4Ssv7S8VeI7DTLfOPtGoXiQpn/AHnIFcD4h/bU/Y68Jhv%2BEm/au%2BG9gU6pdeOLBG%2BgUy5J9gK8k8Pf8EXv%2BCd2lXv9s%2BJfgveeKtSI/eal4t8U6hfSSf7ytOIz/wB81S8Y/DP/AIIpfs2Bx4%2B8FfAPRbi25%2By6vZabcXYI/uxSB5WP0Ums6uKzanHnqKjTX96cn%2BSijuwGA42zmuqOAwkZzf2Y%2B2qy%2B6lS/wCB5nQ%2BMP8Agr//AME3vBUbm%2B/ap0K%2BkXhLfQra51B5W6BVFtE4JJ464rmo/wDgpr8Yfie/mfsq/wDBN/4seMrLquseJ1t/DNlcL/egluy3mj8FPtWD4a/4KXfsJaTd/Yv2Of2W/GfxCmhYosnwn%2BETrDGw4OZJEgCqP7wBFdEf24v2/PGv7v4Sf8EpfE6JJwl7448e6fpAiH95oWDO3%2B6DmvO/tOpX0%2BtJr/pzSlP/AMmakvuPs/8AiEfirL/kYOng1/08lh8PL5rFYjnX/glPyYjfta/8FUtXH2XRv%2BCS9rpzycJfat8ctJeKI/3njjjDkewOaRdF/wCC13xEP2q/8a/Af4dWx5itdO03UNWu19pGlIiP1Sl/sf8A4LT/ABQ/4/8Axh8D/hbZSfd/svT77WtRh/3vOxbsR7UD/gnD%2B0b4%2BPnftBf8FSfjDqrtzLD4C%2By%2BF4W9V2W6yZXtijlx1f4ViJrzlTor8FzfgP8A4hnlOG/5G/FFNf3aLqV5f%2BW2GpQf/g75sSb9m3/grLfxNPrH/BTzwxoiKCZH034M2E4QeuZ5B%2BteeeNfD/xc8EO0fxg/4OEND0udfvQjwx4c05yfQR%2BeWJ9gK9Hi/wCCLH7EWrSrcfFS18c%2BPZVYMZPGPxC1Gcs3qRFLGD%2BWK9E8Ff8ABNT9gL4fIq%2BHP2QfALMn3JdT8PQ30i%2B4e5EjA%2B%2BaP7LzGp9jl/xYitL8Icq/EX%2BqXg/hf42Y5hiX/ciqS%2B%2Btipv/AMkR8Q%2BLvj98D/DZMHiX/g4C8ealITtW38K%2BFVneVuyobW3kGT9ce9YS%2BLpvGn7z4ffHP/gor48jb7uo%2BENL%2BxWZ/wCByIpUH/dr9TfCfwv%2BGngIBfA3w70LRQowBpOkQ22B6fu1FbtH%2BruIqfxKqXoqkvxnW/QPqfg9hf4WT4nEPvXzCpFf%2BA4eEX/5Oz8lv%2BFNftV%2BJuPCnwv/AG9NVLfcXxV%2B0BY6Up%2Bu%2B3bbQP2GP%2BCkGs/6ZYfBj4yaUey6x%2B17BPOP%2BBQWwX9K/Wmij/VPDS%2BOtN%2Bll%2Bsn%2BIfXfD%2Bl/A4Ywn/cStj6r/8AJsZBf%2BSn5Kyf8E4P%2BCmni/GjeI9E8XXdg/37Hxt%2B01d3unn/AHorSBJT%2BDVowf8ABCD47eJ9EOj%2BIfCH7PHhmOUlpJNDh8SajcgnqTPd3QkLeuGAz0r9WaKa4Pyl/wARzl6y/wDtW/xQ1nfDtDXDcO5bB95YaVd/J4nE1reiVj8udB/4Nz/G1zbLpfjD9vDVbbSh10TQdAuRCPoZ79wPxQ123hn/AINrP2KdOhV/FPxU%2BJGqTj75i1Kxt4m/4CLRmH/fZr9EKK3p8I8Ow3w6l/icpfnI8%2BWbRVT2lDB4Sk/%2BneDwkbejdCo0vJWR8U%2BG/wDg3/8A%2BCcWg4F74L8Uaqv8S3/i24QN9fIMdd74X/4I4/8ABNHwiyvpf7KGizFe%2Bqaje3ufqLidwa%2BmaK7aeQ5JS%2BDDQX/bqf53Ox8W8S2tDFSgu0FCmvupUqR5X4d/YX/Yr8Joq%2BHf2R/hraMnSWPwRYeZ%2BLmLcfxNdroPwq%2BF/hbb/wAIx8N9A07b937Bo8EOPpsUVv0V308LhaXwU4r0jFfkkcGJzrOsZHlxGKqzXaVSpJfdKo1%2BAAADAFFFFbnmBRRRQAV4z%2By//wAlv/aO/wCyzWP/AKhXhevZq8Z/Zf8A%2BS3/ALR3/ZZrH/1CvC9AHs1FFFABRRRQAUUUUAFFFFABRRRQAUUUUAFFFFABRRRQAUUUUAFFFFABRRRQAV8F/wDBS/Vf7C/4KrfsP6ru27tV8YWuf%2Bu/9hxY/HdX3pX51/8ABY%2B8l0f/AIKCfsTeII%2BEsvHmom4b%2B7E%2BqeG42P8A4/XmZxLky2cu3K//ACemfceG9BYnjTC0H9tVo/fhcX/kj9FKKKK9M%2BHCiiigAooooAKKKKACiiigAooooAKKKKAMrwN/yJOj/wDYLt//AEWtatZQ8GaGmVga%2BhTJIit9WuY0X2VVkCqPYACl/wCEP0n/AJ%2B9V/8AB5d//HaANSisv/hD9J/5%2B9V/8Hl3/wDHaP8AhD9J/wCfvVf/AAeXf/x2gDw/xB/wTT/Z88S%2BI/jN4l1DV/Ewl%2BNunW1nrlumow%2BTogiUlpNNQwkQNNORczCXzUlmVSylfkL/AAV/wTu%2BHPhbxdH8QvEHxi8feKfEB%2BJ0nju81jxBe6f5l3qbeFZ/C/lslrZQxJbiwnLLHEkeJkRs7N0be2/8IfpP/P3qv/g8u/8A47R/wh%2Bk/wDP3qv/AIPLv/47QB85f8OpPgxZ%2BF9A8A%2BHPjP8SNI8O6RY%2BEIdU0HTtT08QeIJvDTWp0y7vGexaUTbbK2SX7O8EcqRKGT5Vx9A6x8OtI8W%2BB9d%2BHXxCvrnxHpPiKG%2BttStdUjhUNZXQdXsx5EcYMSxuY1LZkKgb3dssbn/AAh%2Bk/8AP3qv/g8u/wD47R/wh%2Bk/8/eq/wDg8u//AI7QB5n8Dv2PdL%2BBcmpazp3xz8d%2BINf1SHRbG68UeJp9NnvjpGlSSvaaSPLso4vsw%2B0XYZzGbljeTOZ/MKyLnfCX9ia4%2BD3jvx/4/wBB/ar%2BJd9dfEXUL2/1mPVoPD8pt7qZfLgkhnXSVuNtpEEitoZZZIY0QBo35z67/wAIfpP/AD96r/4PLv8A%2BO0f8IfpP/P3qv8A4PLv/wCO0AeVeHP2OdQ8Lr4n8R6f%2B1V8Sn8beLW06PVfiLPFoLamLOx877NZRwf2V/Z6QKbm5bH2TeWuHYvnaVwvG3/BO7wx4q%2BBOi/AXQP2j/iT4as9N8dR%2BMtT1zRm0WbUNd1yPWo9cS8u2vtMuIgRqUST%2BXBHDHgeVs8oCMe5f8IfpP8Az96r/wCDy7/%2BO0f8IfpP/P3qv/g8u/8A47QB5L4l/YU8A%2BLfivbfFPXPif4ykjk1PQ9X8TeGUuLBNM8S6vo5RtP1O9RbQSrcRPDbPi2lgidrSDfGwjApnwP/AGJrj4Ea34513QP2q/iXqsvj%2B91DUNWbXYPD8kkOoXO0JeRzx6THO720aJDbxzSSwRQxpH5TKigeu/8ACH6T/wA/eq/%2BDy7/APjtH/CH6T/z96r/AODy7/8AjtAHmPhv9ka88I%2BGfEcXh/8Aaa%2BIkPjHxZq1vfa98THi0OXWLgQRLDDbCKTTG0%2BOBIl2iNLRQC8kn%2BtkeRuV8S/8E3vBmpL8Ol8F/tEfEjwoPhrcanf6QmlPot6l/q%2BoSvLd6zeJqem3aS37yTXTCdQmw3lxsC%2BYa94/4Q/Sf%2BfvVf8AweXf/wAdo/4Q/Sf%2BfvVf/B5d/wDx2gDyrW/2HPh3r/xw/wCF0X3xB8WiC58R6d4k1zwZHc2Y0fWNesLSO0tNVuF%2BzfaPPjit7TCRzxwFrO3ZomaMGtP4efsrxeD/AIuN8cfGfx18b%2BOfEdv4evND0C78Vf2WiaHp93cW9xcw20en2NqrGWSzsy0k4mkItYxuA3bvQv8AhD9J/wCfvVf/AAeXf/x2j/hD9J/5%2B9V/8Hl3/wDHaAPJD%2Bwf8OdO%2BBvw2%2BC/gr4j%2BMPDtz8Kb%2BPUPCPjXS7qyk1dL/7HdWdxdz/abWW1uJbmK%2BvPOEluUZ7lnVUYIV5rWv8Aglz8DdW8IWfgiz%2BI3jrTrCfw/e6H46Wy1KzLeOdOvb%2BbULy31VpbR8ia6ur2RmtfszgX1wiMiPtH0B/wh%2Bk/8/eq/wDg8u//AI7R/wAIfpP/AD96r/4PLv8A%2BO0AeU/8MM/Dlfjm/wAa4fiD4ujg/wCEmn8T2vgpLu0/se08QTaa2myarGv2b7R5xt3k/dtO1uJZGmEPmnzK2fg3%2By/bfC34i6n8XvFvxq8Z/EHxTqOiW%2BjJrfjI6bG9lp8Uskwt4YtNsrSEBpZWd3aNpGIQF9qKB3v/AAh%2Bk/8AP3qv/g8u/wD47R/wh%2Bk/8/eq/wDg8u//AI7QAnjn/kSdY/7Bdx/6LavLvHH/ACkL%2BF//AGRnx5/6dvCFeonwZob4Wdr6ZMgmK41a5kRvZlaQqw9iCK8u8cf8pC/hf/2Rnx5/6dvCFAHs1FFFABXl/wC1v8G/Gfxn%2BGFhY/DW80yLxN4a8YaL4l0CPW55IrK6uNPv4bk2s8kUcjxJNGkkPmrHIYjIJAkmzY3qFFAHzb4O/Zg%2BK6/An4i%2BB/i58M/AXifU/iNrmoeJtV0UeM7%2B309NRnuE8ixS6TT/AD4o4Le3tCuoJGJvtCNItvFhcebW37Df7YHwz%2BAXinwP8Cp/CNhrfxa%2BJ51/4oQ3nxV1szWWkf2Zaae1jp%2BuT6fdXk93NFp9uJL6eFJE%2B0XDRCNhC0f23RQBxfhf4W6bcfAXSvg9rvhKDwlZweHrbTX0LwF4ovLaHSYoo1RbeyvrdbS4SONUCJIiwttUfKvSvP8A/gnT4esPCX7N194W0q4vpbbTvi38Q7a3l1PVJ725dE8Z60oMtxcO807kDmSR2djksxJJr3SvGf2D/wDkiGuf9lm%2BI/8A6mut0AezUUUUAFFFcf8AHf49fCb9mn4Y6j8X/jV4yttE0HTI8z3VwctI5ztiiQfNLIxGFRQSfTrUVKlOlBzm0ktW3okvMzq1aVCm6lSSjFK7bdkkurbOwqK/v7HSrKXUtTvYra2t4zJPcTyBEjQDJZmPAAHUmvkKL9sb/goF%2B0/EqfscfsYDwdoN0oNv4%2B%2BN90bJWjbpJFpsBadwR8yvuZDxkVLYf8EsdU%2BNV7F4l/4KE/tR%2BLvi5cLIJR4TtJzovhuBgcgCztWBkKnADllLAfMpzXl/2nUxGmDoyn/el7kPvkuZ/wDbsPmeN/bFbFaYChKp/el%2B7p%2Bt5Lml/wBuw17mv8Sv%2BCrvwXXxXP8ACj9k3wRr/wAc/GsR2vpXw/g8zT7RicBrrUWBghjyCN6mQA9cVhL%2Bzz/wUv8A2tD9q/aa/aMtPgz4Vn5bwN8IH36q8Z/guNWkz5bjkHyAyMD0FfUnw1%2BFfw0%2BDfhSDwN8J/AOkeG9Hth%2B503RdPjtoQe7FUABY92OSepJrzP9pr/goJ%2BzB%2BypeReGPH/jaTU/Fd2VXTfAvhW2Oo6zeSN9xFtojlN38JkKKexzWOIw7VJ1czxFofyxbhD0bvzz9Lq/8p6eUcIcRcWY6OEgqmIqS19lQjKMbLdyafO4r7Up1KcEtZWRzPww/wCCSX7A3wz1P/hJLj4E2vizWnYPc6349vJdanncfxst0zxBvdUFe%2BWOmeB/hr4baLTNP0rQNHsoy7rBFFa20CAcscBVUAd%2BK%2BUl8f8A/BVj9rZgvw0%2BHeh/s7eEZz8mveM4k1fxJNGejx2IxDbnGcxz/MMcNV7Tf%2BCQnwZ8aX8XiH9rn40fEb406jG4kEHjLxTNFpsMg7w2dsUWNc87CzL7VGGqRgrZdhLL%2BaSVNP706kvuVz9Cwvh7wlwwrZvmFGhPrRwsFiqvpKcJQw8Zd1LEVWnvqa3xM/4K1fsoeGfEcnw7%2BDN1rvxf8XDIj8N/CvR31Vs5wC1wmIFUH7xDsVGSRXPRx/8ABW/9qlxO934U/Zv8LTHKRpFH4j8SSJ6Nuxawhh6bZEJ74r6e%2BGnwk%2BFvwY8Np4P%2BEnw60TwzpceNthoWmRWsRP8AeKxqNzerHJPc10NdP1HHYnXFV3b%2BWneC%2BctZv74nZ/rXwvkmmQ5XFzX/AC%2BxjjiJ%2BsaKUMLB%2BsK7XdnyQP8AgkR8OfHn7/8Aah/ag%2BMfxTMn/Hxp3iHxxNbaafUJbWoTywfQPXpnwu/4JxfsI/BsxS%2BAP2U/BcE8ODDe3%2BjpfXMZHcTXXmSA%2B4ava6K2pZRldGXPGjHm7tcz%2B%2BXM/wATzsf4i8d5lQeHrZjVVL/n3CXsqf8A4LoKhD/yV%2Bdxlra21lbpZ2dvHDFEoWOKJAqoo6AAcAU%2BiivRPjW23dhRRRQIKKKKACiiigAooooAKKKKACiiigAooooAKKKKACiiigAooooAK8Z/Zf8A%2BS3/ALR3/ZZrH/1CvC9ezV4z%2By//AMlv/aO/7LNY/wDqFeF6APZqKKKACiiigAooooAKKKKACiiigAooooAKKKKACiiigAooooAKKKKACiua%2BMUnxNh%2BGWsT/BzWtB07xLFa79MvfE2lTX1jEVYFzLBBPbySjyw%2BFWWP5iuWxmvG4/2wfH0P/BNLwd%2B2HP4Y0i48X%2BLfAHhm%2BttLQSxacNZ1lbKGFSC7yLbLdXqZG9nEakbi3NAH0TX5y/8ABcz/AIl/xu%2BA3i/p/wAI9b6rqO/%2B7t8R%2BD0z/wCRK%2Bv/ANlr4u/FHxzrHxE%2BFXxsn0C88T/DfxhDpF3rXhfSp7Cx1WC40ux1KC4S1nuLmS3YLemFozPLloC4YBwq/En/AAXJ%2BKPwu8e3N74Y%2BH3xM8Paz4k8B/CfXrnXtF0rWoLi70iX/hLfAxRbmKNy9uWVZCA4Una2Ohrys9/5E2IfaDf3Wf6H3/hS1/xEvJ4vaeIpw/8ABjlT/wDch%2Bm1FRWV3Df2cN9btmOaJZIz6qRkfzqWvV3PgWnF2YUUUUCCiiigAooooAKKKKACiiigAooooAKKKKACiiigAooooAKKKKACiiigAooooAKKKKACiiigAooooAKKKKACiiigArxnxx/ykL%2BF/wD2Rnx5/wCnbwhXs1eM%2BOP%2BUhfwv/7Iz48/9O3hCgD2aiiigAooooAKKKKACvGf2D/%2BSIa5/wBlm%2BI//qa63Xs1eM/sH/8AJENc/wCyzfEf/wBTXW6APZqKK5j40fFzwX8BPhP4h%2BM3xE1D7LovhrSpr/UJRjcURchEB%2B87HCKv8TMB3qZzhTg5zdkldvslqyKlSFKm5zdopNtvZJat/JI539qr9qj4U/sf/CS7%2BLfxW1KQQo4t9J0mzXfeavevnyrS2j6ySOR9FALMQoJrwb4C/si/F39qT4l6Z%2B2V/wAFEtOhF9Yv9p%2BHHweVzJp3hKM4KT3Sni5vyNpJYYQjoCESFn7Hn7P3xF/an%2BImlf8ABRn9tDT4/wC1Li1Fx8Ivh2WL2fhDTpQHjuXVgBJfSrtcuRlODgMESH7FrxqNKebTWIxCtSWsIPr1U5r8YwekVaUk5NKPz9ChUzypHFYqLVFWdOm/tdVUqL7nCD0irSknNpRK8o/aj/bW/Z4/ZA0KDUfjH41EepX%2BF0TwvpcX2rVdWkJ2qlvbJ8z5bC7jtQEgFhmvI/2if20fin8Xvile/saf8E8IbTVfGlqfL8b/ABFuoxLo/giIkq25sFbi84YLCMgMDuDFXVO5/Za/4J4/BH9mrXJvihqVxqPjr4k6iN2s/EnxnObvU53IwwiL5FtH1AWPnbhWZ8A1pPHYjF1JUsCk0tJVH8KfVRS1nJdbNRT0cm7o/aMNwtk/D2DpY/iqc4yqJTp4SnZV6kWrxnVnJNYalPeLlGdapH3qdKMXGo/Lv7O/4KR/t7fNrF3dfs2/DC5/5dLN1n8ZatAf7z/c00MOwAlQ5BDg17f%2BzJ%2Bwx%2BzH%2ByPaSSfBv4bW8Or3QJ1PxTqjm81a/Zjl2lupcudx5KqVTJ4UV65RWuHyuhSqqtUbqVP5patf4V8MF5RS82zz8446zbMMDLLcFCODwT/5cUE4xlbZ1pturXl/erTkr/DThsFFFFekfFBRRRQAUUUUAFFFFABRRRQAUUUUAFFFFABRRRQAUUUUAFFFFABRRRQAUUUUAFFFFABRRRQAV4z%2By/8A8lv/AGjv%2ByzWP/qFeF69mrxn9l//AJLf%2B0d/2Wax/wDUK8L0AezUUUUAFFFFABRRRQAUUUUAFFFFABRRRQAUUUUAFFFFABRRRQAUUUUAYXxM8Hap8QfAep%2BC9G%2BIOs%2BFbjUbfyU8QeH4bOS8swSCzRLe29xbkkAqfMhcYY4AOCPKPBP7B/hTwx%2Byta/sd%2BJvjh488VeENP8ACEHh7S21xtKhvbKC28sWdxHNY2FuRcWwhi8uQg8xqzh3yx90ooA4H4Bfs/6P8BNN14x%2BOdf8V654r186z4p8VeKGtPt2qXf2a3tEZ1s7e3t41jtrW2hVIoY1CwgkFmZm%2BTv%2BC0Oi/wBvaZeWOzd5f7N/j65x/wBcdc8GTZ/8cr7vr49/4KbaN/wkHiTUtJCbmk/ZL%2BLLRr6us/hZl/8AHlFcOZw9pltePeE//SZH1PA2J%2Bp8b5XX/lxOHf8A5Xpf5n0v8CNa/wCEk%2BB/g3xFv3fb/CmnXO71320bZ/Wurryf9g7Wv%2BEh/Yh%2BD%2Bss%2B55/hjoRlP8AtjT4Q3/jwNesVthJ%2B0wlOfeMX98Yv9TzeIcN9S4gxmH/AJK1aP8A4DVqx/8AbQoooroPICiiigAooooAKKKKACiiigAooooAKKKKACiiigAooooAKKKKACiiigAooooAKKKKACiiigAooooAKKKKACiiigArxnxx/wApC/hf/wBkZ8ef%2BnbwhXs1eM%2BOP%2BUhfwv/AOyM%2BPP/AE7eEKAPZqKKKACud%2BK/xX8A/BHwFe/Ez4m642n6PYPBHNNFZzXMsks0yQQQRQQI8s80s0scUcUaNJJJIiIrMwB6KvIP21/hv4%2B%2BIfwn0i%2B%2BGXhltd1jwn4/8O%2BJ4fDqXcMD6tFp%2Bp29xPbRyTukSzGFJDF5rpGZVjDuikuoBt2X7VvwEvvgXdftIp46aHwhYyTw317eaRd29zbXMNybSS0kspYlukuhcqYPsrRCYy4jCFyFOPf/ALcv7Nem/Dq1%2BJt14p137JeeIn0G30eLwJrMmuNqiQvcPZnSFtDqCzLbxvcFDbgiBfOOI/nryvwr8CfHfif9nb4oeHvjJ%2Bz94ztrvx343vPHGn6B4c1/Rl1LS7hL%2BCTTreGdr37MupRGwtb0lnNoJZNnnSgNnz74Wfsu/tTfBzxjbftdan8OPGvjrW9R%2BMmq%2BJNX8Eaz4h0D/hI00658K2WhRTPLFNbaT9qWTTIZGhglSKO3umRGd4tsgB9ueBfG/hH4meCtI%2BI3gDxBbatoWvaZBqOjapZyboru1mjWSKVD3VkZWHsa8u/YP/5Ihrn/AGWb4j/%2BprrdL%2By18BfiH8Mf2K/CfwL8SeM7rwz4otfDqpqWqeGTa3D6TeSuZpY7Y3cE0EqxPI0StJCysqA7BkAUP%2BCdOk3%2Bg/s3X2iar4nvtbubP4t/EOG41jU44Eub518Z60DNKtvFFCHcjcRHGiZJ2qowAAe6V8aftpySftrftfeDP%2BCeGiu03hHw55HjP41SRn5JLWJwbDSn7Znl2yOhwdmx1%2B6a%2BpPjX8VvDfwL%2BEHib4y%2BL5Num%2BF9CutTvAGwXSGJn2L/ALTEBQO5YCvB/wDglT8H/Enhz4B3P7SnxYHnfEH42ah/wlviq6dCDFFOC1laIDysUVuy7UP3DK69AK8jMf8Aa69PAraXvT/wRa0/7flaP%2BFS7ng5tfHYmllq%2BGXv1P8Ar3Fr3f8AuJO0f8Kn3Pp6OOOGNYoo1VFUBVUYAA6ACvkH9qz9oP4qftQfF%2B8/4J9fsVeI3sL%2BBFHxe%2BJtplovCVi%2BQ1pA4IDX8oDKACDHzyGDvD13/BRT9pjx38M/C2h/s4/s6Mtx8XvivdtpPg6JG/5BUGP9K1WXGdkcEe5gxH3sHDBGFeifskfsrfDj9j34L6f8Ivh7bmZ0/wBJ17W7gZutZ1BwPOvJ2JJZ3YdCTtUKo4UVOKnUzDEvB0naEbe0kt9doRfRtaye8Yuy96Sa/Z8hw2C4QyWnxJj6aqYiq5LB0ZJOHuPlliqsXpKnTn7tGm1y1a0XKV6VGUZ6X7OX7N3wg/ZT%2BFdh8H/gp4Ui0vSbJd0r8NPezkAPcXEmMyyvgZY%2BgAAUADu6KK9WlSp0Kap00lFKyS0SR8BjsdjczxtTF4ypKpVqNylOTcpSk3dtt3bb/qySSKKKK0OUKKKKACiiigAooooAKKKKACiiigAooooAKKKKACiiigAooooAKKKKACiiigAooooAKKKKACiiigArxn9l/wD5Lf8AtHf9lmsf/UK8L17NXjP7L/8AyW/9o7/ss1j/AOoV4XoA9mooooAKKKKACiiigAooooAKKKKACiiigAooooAKKKKACiiigAooooAKKKKACvmn9r3Rf%2BEk/aO0fw9s3fb/ANmn4n223133nhRcfrX0tXiXxMsIdV/b4%2BG%2Bl3I/d3PwS8fxSf7rar4QB/nUVYe0pSh3TX3pr9TqwOIeEx1LEL7E4y/8BlGX/tpkf8Eota/t7/gnP8Ir7fu8vwhDbZ/64u8OP/HK%2BhK%2BUv8AgiRqE15/wTL%2BHFpd/wCv09tXs51/umPVrxQP%2B%2BdtfVtcGTT9pk%2BHl3pw/wDSV/kfWeJeHWE8Rs5oraOKxH/p6o//AG4KKKK9I%2BJCiiigAooooAKKKKACiiigAooooAKKKKACiiigAooooAKKKKACiiigAooooAKKKKACiiigAooooAKKKKACiiigArxnxx/ykL%2BF/wD2Rnx5/wCnbwhXs1eM%2BOP%2BUhfwv/7Iz48/9O3hCgD2aiiigAooooAKKKKACvGf2D/%2BSIa5/wBlm%2BI//qa63Xs1eM/sH/8AJENc/wCyzfEf/wBTXW6APKf%2BCq97d/GF/hZ%2BwH4fupBcfGHxtEfEogch4vD2nFbu%2BbI5UnbEFzgNtYetfTvjvxp4L%2BC3wy1bx/4ouItN8P8AhfRZr29eNAFgtbeIuwVeBwq4CjrwBXy9%2By1/xk5/wUk%2BMP7VFx%2B/0D4a20Xw18EynlDcxsLjVJV7BxMyxhh1R8Zp/wDwU51PUfj34x%2BGv/BOHwheypN8TtbXU/Hk1s5D2fhiwcTXGSOUM0iLGjdCY2U/er5uOKdOjiMwirynLkprvyvkgvSU3KT8k2dXhvkNPi7ilyrz5KE5Sc5/yYXDKUqs18o1XHvOVNdUS/8ABOP4Y%2BMfjH4k1v8A4KXfH7TPK8VfEq0WHwLo8zbx4a8LBt1rAnYPOMTOw%2B9uU/KXcV9cVBpemadommW%2BjaRZRW1paQJDa20CBUijRQqooHAAAAA9BU9exgcJHBYZU73e8n1lJ6yk/V/crLZHscVcQ1eJ87qY1wVOnpClTXw0qMFy0qUfKEEk3vKTnN3lNsKKKK7D50KKKKACiiigAooooAKKKKACiiigAooooAKKKKACiiigAooooAKKKKACiiigAooooAKKKKACiiigAooooAK8Z/Zf/wCS3/tHf9lmsf8A1CvC9ezV4z%2By/wD8lv8A2jv%2ByzWP/qFeF6APZqKKKACiiigAooooAKKKKACiiigAooooAKKKKACiiigAooooAKKKKAPMP20/i94q%2BAf7JnxD%2BMfgaO1Ot%2BH/AApeXWjvfRF7eG6EZEUsqggtEjlXdcjKqwyM5HmXgv4xfGH4SaR%2B0F8PfiF8c4vFFz8KvDsGuaF4%2B8b6baWohiuNJkuDHqC6ZbwRNHBPbSyFooVfyJkUh2Xe/wBE%2BNPBvhX4i%2BDtW%2BH3jrQLXVdE13TZ9P1jS72IPDeWs0bRywyKeGR0ZlI7gmuC8B/sa/s9/Dnw1qnhDQfCuq3en68LoeI4vEPi/VNWbWxcWsVpIt899czPfAW0EUKCcyCKNAkewEggHj//AATd%2BNv7SXj/AMZeMvh7%2B0pqXjGK/wBM8I%2BFtbsNG%2BI2maJb6zEdQXUFuLlDoaLaNp8ktpsgSQ/bI5Le5FwqBoQepv8A4neG/GP/AAU28F%2BDNJ03xDDeeHvg944jv5tV8I6jY2kpfVvCWDbXVzBHBegbTlrd5AuRuI3Ln0X4F/st/BX9nCTUrr4VaBqkV3q9taW2oajr3inUdZu5La1EgtbYXGo3E8qW8PnTGOBWEaGaQqoLsTzfjj/lIX8L/wDsjPjz/wBO3hCgDzH/AIIy/wCgfsoa54Q6f8I98VfEunbP7u2%2BZ8f%2BRK%2BtK%2BS/%2BCT3/Estv2hvB7cf2T%2B074qSBfSFzbOh/HLV9aV5ORaZRRXZNfdKa/Q/QPFX3vETMan884z/APBlHD1P/cjCiiivWPz8KKKKACiiigAooooAKKKKACiiigAooooAKKKKACiiigAooooAKKKKACiiigAooooAKKKKACiiigAooooAKKKKACvGfHH/ACkL%2BF//AGRnx5/6dvCFezV4z44/5SF/C/8A7Iz48/8ATt4QoA9mooooAKKK534r/FfwD8EfAV78TPibrjafo9g8Ec00VnNcyySzTJBBBFBAjyzzSzSxxRxRo0kkkiIiszAEA6KivPLL9qz4C3/wKu/2kk8cvF4Q09riO/vbzSLuC5triC4a1ltZLKSJbpLpbhTB9maITebiMIWIU86/7fn7LyeE4vFieKfEUrTeI5tAHh62%2BHeuS66mpRWovJbd9ISyOoRstsyXBLQACKSOTOyRGIB7LXz9%2By14vg%2BH37JPjzx9dECLQ/iX8UdQkLdNsPi/XZDn8Fr2n4fePvBvxV8CaN8Tfh34it9X0DxDpcGo6LqloxMV3azRiSKVScHDKwPODzzXxx8UvG//AAr3/gkN8e/EIm8tpfF3xT09HzghrvxnrVoMe%2BZxiubGVvq2DqVf5Yyf3Jv9Dkx%2BI%2BqYCtX/AJISl90ZP9Eegf8ABHjwjH4F/wCCcXw91LVmC3uu2V3r%2Bs307Ye5lu7qafzpGPU%2BW0Y3Hsornf8Agm9bXH7Snxl%2BKH/BSLxBA7WvjHU28MfDITqQYPDWnyFPNTPKi4uFaRl7PEccGr37RniqX9kD/gjjcwWha3v9E%2BD%2BneHtPCD94L24tYLCNlA5LCSUP/wEn1r3D9kr4PR/s/8A7MXgH4LiBY5fDnhSys70KPvXKwr57/8AApS7f8CrxMJQvXwuFe1GnGb/AMbShG/p%2B8l6u599wtR/1Y8JKleKtVxkqeET6qlSpwxGIt/jqSoU5Pqk19pnodFFFfSHxgUUUUAFFFFABRRRQAUUUUAFFFFABRRRQAUUUUAFFFFABRRRQAUUUUAFFFFABRRRQAUUUUAFFFFABRRRQAUUUUAFeM/sv/8AJb/2jv8Ass1j/wCoV4Xr2avGf2X/APkt/wC0d/2Wax/9QrwvQB7NRRRQAUUUUAFFFFABRRRQAUUUUAFFFFABRRRQAUUUUAFFFFABRRRQAUUUUAFeM%2BOP%2BUhfwv8A%2ByM%2BPP8A07eEK9mr5q%2BOfxGh8Gf8FU/2d/CVzIAPF3wr%2BJOnQIT1liuPC14CPcJayfgTUTnGnG8vL8Xb82RUqQpR5pbXS%2B9pL8WjA/4J1/8AEo/ad/ar8H9PI%2BL0Wo7P%2BvuyR8/jsr60r5L/AGPs6N/wU6/a28NniO4l8Fajbj18zSZRIf8AvoCvrSvMyXTA8vadRfdUn/mfofib7/FSrf8APzD4Kf8A4FgsN%2BsQooor1j8/CiiigAooooAKKKKACiiigAooooAKKKKACiiigAooooAKKKKACiiigAooooAKKKKACiiigAooooAKKKKACiiigArxnxx/ykL%2BF/8A2Rnx5/6dvCFezV4z44/5SF/C/wD7Iz48/wDTt4QoA9mooooAK8g/bX%2BG/j74h/CfSL74ZeGW13WPCfj/AMO%2BJ4fDqXcMD6tFp%2Bp29xPbRyTukSzGFJDF5rpGZVjDuikuvr9FAHxlr3wB/aI8a/sg/F3wPd/Ae9s9d%2BJfja48Vjw1e61pm%2B3sJNTtlfTY7mK6eODVWsLRp0nUm3gurmNluGMRcedH9i/44JpNvq2q/s2fEu68Hf8AC4tX8QWfhLTPi1bwfEOztLjw5a2Ec8/iAaxG8268S9Lp/akkv2WSziLvHCbZf0SooA8g/Zk%2BDnxT8E/sR%2BBPgZ428WN4V8V6P4E07Sr7U/CFtYFtMnhgRMW6y2z2jFAoTP2cxEglUUEAfGn7Rul6j/w6sT4Baj4pv9bvPHP7U2v%2BFZtV1JIEutRkf4havK0ki20UUQkf7MWYRxomSdqqMAfpVX5x%2BJR/wmXjf9m74M/f%2B3ftg/E7xL5Pr/ZHijXZ92P9nzc/jXlZ3rldSH89o/8Agcox/Js8TiP3slq0/wCflh/4HOEPykz2P/gpeq/FT4vfs7fsg2oDx%2BL/AIopr2tWyjiTS9GhN1PE47KxdMe6cdK%2Bua%2BRvA//ABe7/gsh408Un97pvwW%2BFthoMA6rHqmqyG7eQH%2B99nUxkDpjmvrmllv72vicR/NPlXpTSj/6Vzn67xt/wn5Tk2TrR0sMq01/08xc5V9fNUlQXo16BRRRXrH56FFFFABRRRQAUUUUAFFFFABRRRQAUUUUAFFFFABRRRQAUUUUAFFFFABRRRQAUUUUAFFFFABRRRQAUUUUAFFFFABXjP7L/wDyW/8AaO/7LNY/%2BoV4Xr2avGf2X/8Akt/7R3/ZZrH/ANQrwvQB7NRRRQAUUUUAFFFFABRRRQAUUUUAFFFFABRRRQAUUUUAFFFFABRRRQAUV5h%2B2n8XvFXwD/ZM%2BIfxj8DR2p1vw/4UvLrR3voi9vDdCMiKWVQQWiRyruuRlVYZGcjzLwV8dviz8B9J/aC8MfE3x/qXxMk%2BD3h6DxHo%2Bt6tp9jZ31/BNpMl01jONPt4Lcus1rKVdIVPlXESsHZC7gH05X58f8FbPF178Mf%2BCin7GfxYt8pb6LrfiODVZwcCCyvbzw7ZTOfbE4H417f/AME8/jl45%2BJVtqPh34z%2BPfiFfeMpvCuieJZ9I8ceHNE0%2B1isb8XIjutLXS0Li0klgnQQ3ssl5CIEEoUvl/nz/gsVe6N8dPEWr%2BBPCmmeI7fWvAXwI8Z6217qPhDUbG3Elnr3g27MlpdXNukF6BHbyhmt3lCBhuI3Lnzc4U/7LrOG8Y8y9YtS/wDbfxPIz9VHkteVP4ox5l6wan%2BPJb5ns/wb/wCJJ/wWN%2BM2l/d/tz4VeHdRx/e8mR7fP64r60r4g1n4iW3h39v/APZ2/bBspAmg/Hr4Wt4U1SVT%2B6iuWjj1OwP%2B9I8nlLjspr7frHJ5xca0F0qSfynyzi/mpH6rx3KONo5PmdJ3p18Dh7P%2B9RVShNesXCPylF9Qooor2D4EKKKKACiiigAooooAKKKKACiiigAooooAKKKKACiiigAooooAKKKKACiiigAooooAKKKKACiiigAooooAKKKKACvGfHH/ACkL%2BF//AGRnx5/6dvCFezV4z44/5SF/C/8A7Iz48/8ATt4QoA9mooooAKKKKACiiigAr84v2Y2Xxz/wUu8EeGWYMvgI/GPxIQekRvfH%2Bs6fu9shcV%2Bjtflt%2Bwr4neL9pj9s74yyMVHwwt/GOkxTHgIJvFHiLVGAP1QE14%2BcTUYUYvZ1It%2BkFOb/APSUeZjsNUzDG4HA0/irYilFfe3%2BfKfSX/BIKN/iB8KPiF%2B1peqWm%2BL/AMVtZ1qxlYfMumwzm0tYfonkygZ7Gvrevnn/AIJO%2BFf%2BEN/4Jy/CLSPL2ed4SjvsY/5%2BpJLnP4%2Bdn8a%2Bhq1yWDp5TQvu4pv1l7z/ABkz9L8TMVTxXiDmjp/BCvOnDyp0WqFNfKFGK9b9wooor0z4cKKKKACiiigAooooAKKKKACiiigAooooAKKKKACiiigAooooAKKKKACiiigAooooAKKKKACiiigAooooAKKKKACvGf2X/wDkt/7R3/ZZrH/1CvC9ezV4z%2By//wAlv/aO/wCyzWP/AKhXhegD2aiiigAooooAKKKKACiiigAooooAKKKKACiiigAooooAKKKKACiiigDM8aeDfCvxF8Hat8PvHWgWuq6Jrumz6frGl3sQeG8tZo2jlhkU8MjozKR3BNcX8Kf2T/gh8FrO5sfAmia1tv7mafVpNb8Y6pqsuqyS28NsTeyX1zM97tgt4YoxOZBEkYWPYMg%2Bj0UAed/Ar9lX4G/s3Tahd/CPwvfWlxqdnaWVzdar4k1DVJksrXzfstlFJfTzPBaw%2BdN5VtEVhjMrlUXcc8H8f/BWnfEn9sjwb8OtYA%2Bya/8As/8AxG026yMjy59R8JRNx34Y19AV4z44/wCUhfwv/wCyM%2BPP/Tt4QqZRjOLi9noTOEakHGSumrP0en6nxTpVj4v%2BK3/BCPw1400iIjx18A9YGq2Knk2d3oOoyqwz1%2BWy3H8q/R74WfEPQfi58M/D3xU8LS79N8S6Ja6pYNuyfJnhWVM%2B%2BGGa%2BWP%2BCfnh7R9H%2BL/7Vv7IfiOzWbT7T4oy60dPk%2B79g16zEwiA/ubY2GP9o%2Bta3/BIDxBq%2Bi/s5a5%2BzB4uvXm1z4LeO9V8I3TzffmtY5zLazY/uNFKEU9xFXy2TSlQrUVL7dNwf%2BOhJx%2B9w/I%2Br4alLOvBeFKTvVyyvbz9liOajL5RxGGg/J1fM%2Br6KKK%2BrPlgooooAKKKKACiiigAooooAKKKKACiiigAooooAKKKKACiiigAooooAKKKKACiiigAooooAKKKKACiiigAooooAK8Z8cf8pC/hf/2Rnx5/6dvCFezV4z44/wCUhfwv/wCyM%2BPP/Tt4QoA9mooooAK534r/ABX8A/BHwFe/Ez4m642n6PYPBHNNFZzXMsks0yQQQRQQI8s80s0scUcUaNJJJIiIrMwB6KvIP21/hv4%2B%2BIfwn0i%2B%2BGXhltd1jwn4/wDDvieHw6l3DA%2BrRafqdvcT20ck7pEsxhSQxea6RmVYw7opLqAbll%2B1Z8Bb/wCBV3%2B0knjl4vCGntcR397eaRdwXNtcQXDWstrJZSRLdJdLcKYPszRCbzcRhCxCnGj/AG5/2aZfh/J8Rk8W619ni8T/APCOPop8D6wNc/tfyBc/YBo5tP7QM/2Yi58sW%2B7yD52PK%2BevDte%2BAP7RHjX9kH4u%2BB7v4D3tnrvxL8bXHiseGr3WtM329hJqdsr6bHcxXTxwaq1haNOk6k28F1cxstwxiLjz60/Yg%2BOVrDpvxIHwf%2BKcXh/SvjZq2vWvw8svitbr42m0e98NW%2Bnma513%2B1QZ7hdRhkkXdqbSrYyJD5xWMWlAH3/4V8Sab4y8M6d4u0aO8Sz1Sxiu7VNR02ezuFjkQOolt7hEmgfBG6ORFdDlWUEED8r/AIMxnwL%2BxB/wUP8Ai/KPKfXPjp8QdBRzwXRdRubdce26%2BYfXNfoZ8BvAnx7P7JHhj4f/ABq%2BJuqaX8QB4Zgt9b8TaTJZXd9a3IA%2BbfcW8ttPOq4R5GhZHcOwXDCvg34wfDnUPhz/AMEd/in8O5PFl3rGq/EH9pzxTZzazexwpc308nxAu4jLKsEUUQleO0ywjjSMFiFRVwB4mfwf9nzqr7Eaj%2BbpyivxkfU%2BH2WQzTxMyGnP4Y4ulJ%2BSUotv5KMn8j9Cf2WPCv8Awgv7MXw58E%2BVsOj%2BBNIsimOhisokx/47XeUy1toLK2js7WMJFFGEjQdFUDAH5U%2BvXpU1SpRguiS%2B5JfoeDmGLnmGYVsVPepOc36znKb/ABkwooorQ5AooooAKKKKACiiigAooooAKKKKACiiigAooooAKKKKACiiigAooooAKKKKACiiigAooooAKKKKACiiigAooooAK8Z/Zf8A%2BS3/ALR3/ZZrH/1CvC9ezV4z%2By//AMlv/aO/7LNY/wDqFeF6APZqKKKACiiigAooooAKKKKACiiigAooooAKKKKACiiigAooooAKKKKACiiigArxnxx/ykL%2BF/8A2Rnx5/6dvCFezV4z44/5SF/C/wD7Iz48/wDTt4QoA8i%2BJWoyfsl/8FWdB%2BLviGNY/Bnx88NW/hO61HO1bLxHZsWsxKemJoT5Kdy27oFNV/iFq837B/8AwUhf40%2BI4li%2BGX7Q0Wn6Lrmqj5Y9E8TWkbR2jzfwrFcRbl3cfPuZiAmT7n%2B27%2BzDpX7Xv7NfiP4K3V0LPUrqAXfhrVgxV9N1WA%2BZa3CsvzLiQAMV5KM4715Z%2Bz/r3hT/AIKi/sB6n8J/2idFMHiKFZ/C3xH01kVbjStes2CtcKvRHDrHcJ1ALbecEV8xiMNVp4qVCm7Sbdak3tzLSpB%2BTvf/AAzb%2ByehwBnuC4X4oxGXZnFywOPhONRL4lCcoOo4f9PKNWNLE00/itOD0k2vquivlz/gnR%2B0Z41u4tb/AGJf2mtZjHxZ%2BFci2V1NPJhvEmkAD7JqsO47pA0ZQSHkhtrPgyYH1HXu4PF08bh41YaX3T3TWji/NO6f37NHbxJw/jOGM5qZfiWpctnGcfgqU5JSp1YPrCpBxlF%2Bbi7SjJIooorqPCCiiigAooooAKKKKACiiigAooooAKKKKACiiigAooooAKKKKACiiigAooooAKKKKACiiigAooooAKKKKACvGfHH/KQv4X/9kZ8ef%2BnbwhXs1eM%2BOP8AlIX8L/8AsjPjz/07eEKAPZqKKKACiiigAooooAK/OX42/wDFQfA74NfDFPm/4SH9vTxGLuP%2B9aweNvEUsv5YQ1%2BjVfnLpf8AxVH7Tn7NHw5HzJ/w0N8bdcuV7J9i8Raw0bH6s5A968nO9culD%2BaUI/8AgVSC/wAz9A8L/wB3xlSxP/Piliav/grCYmS/Fx%2Bdj9GqKKK9Y/PwooooAKKKKACiiigAooooAKKKKACiiigAooooAKKKKACiiigAooooAKKKKACiiigAooooAKKKKACiiigAooooAKKKKACvGf2X/wDkt/7R3/ZZrH/1CvC9ezV4z%2By//wAlv/aO/wCyzWP/AKhXhegD2aiiigAooooAKKKKACiiigAooooAKKKKACiiigAooooAKKKKACiiigDyL9vr4heNPhR%2BxR8U/iR8PNZk0zWdF8DajdWWrwxhn00rA268UMCpMC7phuBXMfIIyK86%2BBvjnUv2fta/aE8KeHb/AMefEXwt8M7TTtX0DTZ9avvEutS3UujC7udJtp7mSa5upH2W88cLO7BtQCrtjMaL9O3tlZ6lZy6dqNpFcW9xE0c8E0YdJEYYZWU8EEEgg8EGuU%2BHP7PPwB%2BD2n2Gk/CP4HeD/C1rpctzJplt4c8M2tjHZvcBBcNEsMaiMyhE3lcF9i7s4FAHzL/wSj%2BNvj34o%2BPvjtonxP8AGnj3WNZs/G2l6hNB4u8I67pVnpBvNC0%2BaXT9Pi1a1gMFtFO0yxwhVkaPZPIpNx5knod/408SeIf%2BCm3gvw7q3wj8Q6FZ6T8HvHCWGvarc6c9prQbVvCWXtltruWdAm0Z%2B0RQH5xtDfNj3jSvCvhfQtW1PXtE8N2Fnfa3cx3Gs3trZpHLfzJCkKSTOoBldYo44wzEkJGqjhQB5R44/wCUhfwv/wCyM%2BPP/Tt4QoA9mr41/aZ8B/Fz9hX9oDXP%2BCgH7PXhifxN4L8Tw2//AAu/4fWMQ%2B07IFKrrViOhljQkyR8bhuY/eLxfZVBAYFWGQeoNceNwccZTS5nGUXeMlvGXfzXRp6NNp9GuDMcBHH0UlJwnF80JLeMlpfs002pRekotp9GvmX42fAH4If8FIPhX4W/aY/Z3%2BKI0Xxjptv9t%2BHHxS8P8XFk/Oba4XgyQ7tyS28gypLjAJcNS/Zl/wCChFwvjVP2U/26dLs/h78X7JxBb/aGMekeLE6JeadcNhG8zj9ySGDHaoJDImH48/Yy/aJ/ZI%2BIOtfHr/gmxrGmPpmuXhv/ABb8DdfIi0rU5yMPNp82R9huGA%2B7xGTjJ2osdTaT%2B0v%2Bwd/wUe8O3H7M37U3gGDw340gm8nUPhr8RYvsOq2N2RjfZTHYZCRyskDBynJVQcV4LqVqOK5tKVd6NO/sq1tmn0l2%2B2tpRnFJn2HD3iBl9bLqfDfGdKTpxv7GrBr2lFt3bw85%2B7UpSfvTwlWUWpXlSdOd5T%2BvaK%2BNrT4J/wDBR79h2M237Nfjqy%2BOXw7tDm18CeP9R%2ByeINPgHSG11L/VzAAYHnABRhVTvXUfDT/grb%2Byxruvp8OvjzJrXwb8ZKdtx4a%2BJ%2BmPpwDdCyXTDyHjJ%2B6xdSwIO2vUhm%2BHhJQxSdGfaXwv/DP4H98X/dPfxPh1m%2BIoyxWQTjmOHWrlQu6sF/09wz/2im11fJVhfao1a/1DRVXRdb0XxJpcGueHdXtb%2ByuYw9teWVwssUqnoyupIYe4NWq9VNNXR8DKMoScZKzWjT0afmnZr7gooopkhRRRQAUUUUAFFFFABRRRQAUUUUAFFFFABRRRQAUUUUAFFFFABRRRQAUUUUAFFFFABRRRQAV4z44/5SF/C/8A7Iz48/8ATt4Qr2avGfHH/KQv4X/9kZ8ef%2BnbwhQB7NRRRQAUUVm%2BMPGXhD4eeF7/AMceP/Fem6Houl2zXGp6xrF9HbWtnCoy0ksshCRoB1ZiAKANKiuc034w/CPWfhkPjXo/xT8OXfgw6e9%2BPFttrlvJpn2RAS9x9qVzF5ShWy%2B7aNpyeKpaJ%2B0L8AvE3wqvPjt4b%2BOPg/UPBGnW1xcah4ysfE1rLpVrDACZ5JLtZDCixhWLsWATac4xQB2Ffm/%2BzDf2etf8FLPDWnX04WLwbY/F3XHJBOw3fxF1myBwOcnAAA5PSv0Z0vVNM1zTLbWtF1GC8s7yBJ7S7tZlkinidQyujKSGUgggg4IIIr81/wDgnJ/xVv8AwUQ%2BOniD73/CI67rWh7v7n2r4j6xe7fx25ryc1954en/ADVYf%2BS80v0R%2BgcA/uY5xi/%2BfeAxP31XQoL/ANOSXzP0a/4TDSf%2BfTVP/BHd/wDxql/4TDSf%2BfTVf/BHd/8Axqvnbx9/wWR/4JvfC/x3rXw08c/tG/Ydb8O6tc6ZrFl/wiGsS/Z7q3laKWPfHaMj7XRhuUlTjIJHNZP/AA/L/wCCWn/R0P8A5ZOt/wDyFVSzzJYScZYmmmv78f8AMzo%2BFviZiKMatLJMXKMkmmsPVaaaTTTULNNNNPqmn1Pp/wD4TDSf%2BfTVf/BHd/8Axqj/AITDSf8An01X/wAEd3/8ar528A/8Fkf%2BCb3xQ8d6L8NPA37Rv27W/EWrW2maPZf8IhrEX2i6uJViij3yWiom53UbmIUZySBzXfft/fGD4mfs%2B/sTfFP44/Bu002bxP4S8D6hqujrq8zJbrLBC0m99scm7aoZgm3DsoQsgYuvXhcbg8bFyw9SM0t%2BVp29bHz%2BecM8ScMVoUs4wVXDSmm4qrTnTcknZtKaTaT0bXXQ9L/4TDSf%2BfTVf/BHd/8Axqj/AITDSf8An01X/wAEd3/8ar571P8Abc%2BNvhX4h%2BOfBfxC%2BBXgTQtP%2BGXw8tPE3jnxPd/FS6Njbvdxao1vbW2NHEs6h9PjEsrpEUS4LRxzOgik5n4bf8FKtX%2BKuqeGdD1b4T6v4X1uL40S%2BDvEOkLLeW0MiHwfqGvwz7dY0e0vXhdIYk2/Z7SQSoGWWSFStx0nhn1V/wAJhpP/AD6ar/4I7v8A%2BNUf8JhpP/Ppqv8A4I7v/wCNV88/slft8/En9ofT9EuPHP7MH/CP3fiz4TaL8QfCel%2BHvGsOqz3WnXzBHgnNxBZRW9xCXiYqHkR0fIcMpjrqf2q/FnxV1L4tfC/9nj4W/FfUPAjeNrrWLrVvFejabY3V7Fb2FkJFtoFv7e4t1aSaaFmZ4nPlQSqu1mEiAHrv/CYaT/z6ar/4I7v/AONUf8JhpP8Az6ar/wCCO7/%2BNV85QftCftI/E/8A4JkeEPj/APD60uf%2BE513SPDs3iG78K6Gt7cW9pLf2kWsahp1lIsgnlSzN5c28BWXcyxrsnOI34vwF8cf2lfjR%2BzV8QdQ8C%2BLvjbqGu/DP4lX%2Bh6Vc%2BHfCnhfTPEniizFjaXlvLeWevWcNpBsF6EZI4raZvIH7tXLRUAfYP8AwmGk/wDPpqv/AII7v/41R/wmGk/8%2Bmq/%2BCO7/wDjVfC0H7aH7TPjLwFD%2B0FpPxx0%2BOy8DeBPhpqureHvDeiWzaV4zuNdkR9SlL3lubyGFoZBHZrE8DxyqzTCYHyls6v%2B3F%2B0P8J9EuP2pPEXjmfxNoOu33xStLf4ZPpVlDbaOvhj%2B1ZLF7eeGBbtpJI9HeO4E8symW9HlrEIwrAH2/8A8JhpP/Ppqn/gju//AI1V%2Bwv7TU7RL6xnEkUgyrAEd8EYPIIOQQeQRXzv%2BwH8ZfGnj5db8G/GDx98RNR8Z22gaLr99pfj7w5omnRw2WoLdLBd6cukpkWc0tpdKsN3LJdw/Z9s20sC/vPg/wD5BM3/AGFL7/0rloA1aKKKACiiigAooooAKKKKACiiigAooooAKKKKACiiigAooooAKKKKACiiigArxn9l/wD5Lf8AtHf9lmsf/UK8L17NXjP7L/8AyW/9o7/ss1j/AOoV4XoA9mooooAKKKKACiiigAooooAKKKKACiiigAooooAKKKKACiiigAooooAKKKKACvGfHH/KQv4X/wDZGfHn/p28IV7NXjPjj/lIX8L/APsjPjz/ANO3hCgD2aiiigArzj9ob9kb9m39q3QP%2BEd%2BP/wf0fxHGkZS2u7q32XdqD/zxuYyssX/AABhnvmvR6Kzq0aVem6dWKlF7ppNfczKvQoYmk6VaClF7ppNP5NNHx/D%2Bwx%2B25%2Bzcu39iT9uS5vdDgObPwB8ZrA6tZxr2ijv48XMMQ6BFHAPJJGaxfiF%2B0v%2B0rb%2BHJPA/wC39/wSZvfGmiIT9o1X4c/ZPE9lOMcypYTYmhA9XbcMZr7aory5ZPGEXHD1ZQX8uk4enLU5tPJSS8jzcPlmIy2tGtleKq4eUXePLJyUX05VJ3jbpyVI26WPyw8PXf8AwR9ufEc8n7PH7YPxH/Zp8VPLvu9Fi1XUdHt45T2uLe9R7dl9UWRV47CvcvAGpf8ABSuwtVuf2dP27vgV8fdLjXdGniKyWzu3i7KsulSPGz443ucHqa%2BwvG3w0%2BHPxL07%2ByPiP4A0TxBaYI%2By63pUN3Hg/wCzKrCvB/Hn/BIP/gnD8Qrhr7Uv2WdD0243bo5/DVxc6UYm7Mq2csajHpjHtXmPJMdQd6HIv8EqlH/yVOpT/wDJEfeR8TPE1xUMzlhczitP9roqU7f9fWnVX/g5/hY5sftz/t3fDYeV8ef%2BCW3iy4hi/wBZqnwz8VWeuCcd2S2XbKv%2B6xzUkH/BaH9jbRZktPjPp3xE%2BGlwzBWt/Hnw7v7Zkb%2B6xhSUA/jimD/gkb4O8MfN8F/2z/2gfBAT/U2WkfEmSWzX0BhmjfcPYtTZ/wBiL/gof4cha3%2BH/wDwVc1a5tcEHT/GXwu0zUxKv915mYP%2BIFF%2BJaGylL19lP8AFOjL8B/66cN4n/kY8KuD6yweNlH7qeIjWivS/kem%2BCP%2BCkH7BPxDCDwx%2B134BLy48uC/8SQWcrewjuGRifbGa9X8NeN/BfjS2%2B2eDvF%2Bl6tCRnzdM1COdceuUYivhTxv/wAE/P29tfLv4h8JfshfEFz1ufGXwrntJ39/MtELKT6g15R4l/4JcfHU3P27Wv8Agl78D9SukOUuvAPxW1rRWB9UWSYKPxBo/tfPKX8TDX/7dqL8nUQv7V8KcR8UM0wr/vYfDYmK%2BdKvSk//AAG/kfqtRX5Lf8Mkfto%2BCRjw9%2Bxr%2B0R4Rjj%2B5N8PP2t7GVR9IpYHbHsTR/aP/BSfwPxpdx%2B2Rp%2Bzp9r0jSPFGPzaPf8A1o/1mqw/i4Wa9L/rTQcnhlW/hZ/Kn5V8ux1P73TjXj9yZ%2BtNFfkt/wANn/8ABUXwaMX3jv4%2BTqnT/hLv2QLO3jx/10tLtiw98Uf8Pdf%2BChvhP/kJah4JmC/e/wCEv%2BDXiaybHv8AZA4Bo/1vy6P8SnUj/wBup/qg/srhGp/A4ly9/wCOeJo/%2BnsDGx%2BtNFfkyf8Ag4D%2BPXhjA8Y6N8HrpgcFLSz8UWZJ9P39kwH41p6b/wAHIXiaMqt5%2BzB4S1QE8yWHxTFn%2BOLqyB/CqXGfD97SqNesX%2BjY48OYOt/u%2Bc5bU9Mxwsfwqyov8EfqnRX5qaV/wcZ%2BEpFDa/8Astrbf3vsfxU0mfH/AH1szWxB/wAHH/7MFqN3iL4H%2BMocfe/s7VNIu/yxeLmt48WcOy/5iEvVSX/tpceD80qu1Gthan%2BDHYCX5YyJ%2BidFfAei/wDBx1%2BwhrBCt4E%2BJ9se/m%2BHLN8f9%2Brx66fTf%2BC%2Bf7AF%2BAbm98b2YPU3Pg2c4/79lq2hxLw/P4cVD7/80i5cDcVRdlh0/wDDWwsv/SMZM%2B1aK%2BQ7T/gul/wTSlAOo/G3VLAdzeeCdV4/74tmrX0//gtV/wAEw9TANt%2B1TYrn/n48O6pF/wCh2oreOe5JLbE0/wDwOP8AmL/UTjRq8curP/DDm/GMpH1LRXzpYf8ABWz/AIJwajj7P%2B1v4XXP/Pdpov8A0OMVs2P/AAUx/wCCfeoY8j9sX4fLn/nv4lgi/wDQ2FbRzXK5bV4f%2BBx/%2BSJlwPxrHfK8T/4IrP8AKmz3KivJLL9vr9hjUMC0/bL%2BFbE9FPxA04N%2BRmzWtZ/tffsmajj%2Bz/2ofh1Pnp5PjawbP5S1rHHYKW1WL/7ej/8AJHFU4X4no/xMBXj60Ky/Oij0WiuPs/2hfgFqGPsHxx8Hz56eT4mtW/lJWpafE/4a6hj7B8Q9Dnz08nVoW/k1aqtRltJP5r/M4amWZnR/iUKkfWE1%2BcEblFVbXW9Gvv8Ajx1e1mz08q4Vv5GrVaJp7HHKMoO0lb1CiiimSFFFFABXjPjj/lIX8L/%2ByM%2BPP/Tt4Qr2avGfHH/KQv4X/wDZGfHn/p28IUAezUUUUAFeIft/eG/EWu/BPRtW0TwpqWv2nhv4l%2BFdf8QaHo%2BnSXl1eabY61aXNwYraJWkuXhWP7SIUVpJPs%2B1Fdyqn2%2BigD4S8R%2BFfGnjD9hn40%2BH9F%2BD3jWI%2BNfiTeeKvDWgv4Qv7bUdP0afXLYyajDbSQqTfK0F3q0enOPPkZ41lhzMyHz3xV%2Bz1%2B1/8Uf2cvirp/w48C3HjfwrrHxH1rxFqVx8XFvvCfiXx2IvDmmRafcS6fb6MwPkX8MsaW4tLHz/AOyLFsFZJXn/AEvooA8r/Z/0j41x/sb%2BCdBubXRfCPjiHwLptu8Oo2lzq1np1yltGpWWImxmmwBhkzCwbIz8uT8W/wDBF/wv4ltfix%2B1r4y8Z6nZahq1z%2B0dcaXqOoabp72ltPPa%2BIL9pWhgeWZoULXBIjaWQqCAXYjcf0mr4l/4JQeF20bwJ%2B0L4hmj/ea1%2B2j44mRyOsUfiMQqPoGjf864MXT9pisO/wCWUn/5JJfqfW8P41YPIM4jfWrRpU/vxVKb/wDTaPtqivmLx/8A8FNf%2BEC8d634F/4d8/tPa1/Yur3Nh/bGgfCf7TYX/kytH59tL9pHmwvt3o%2BBuVlOBmsj/h7D/wBY1P2tP/DN/wD3VWUs6yyMnF1NV/dn/wDKz85lxDk0JOMquq0%2BGp00/wCfR9aVi/Ef4eeDPi58Ptc%2BFXxG0GLVfD/iXSLnS9c0ydmVLq0uImimiJQhgGRmGVIIzkEHmvnzwD/wU1/4T3x3ovgX/h3z%2B09ov9tavbWH9sa/8J/s1hYedKsfn3Mv2k%2BVCm7e74O1VY4OK9m/aT8YfE74efALxf8AEH4M%2BHLTWfE%2Bg6Bc6lo%2Bi3sLumpSQIZTagI6EPKqNGjbsK7qxDAFT14bGYbGRcqMrpb6SX/pUY/qduDx%2BDzCLlh5cyWj0kvP7UY/hcxoP2Nf2eF8K%2BKfB2p%2BENS1ez8a%2BG7fQfFUviLxXqep3WpWEH2nyY5Lm7uZJ96fa58ShxKNy/P8ibc7wP8AsFfstfD3Ul1zw/4C1KbUh4uHiiXVta8Y6tqV5cauNIm0YXc1xeXUss7DT55bfEjMu0qcbkRl8N8R/wDBR/4m/Ejwtc%2BMf2XG0PVbDxH47m0j4USxeEl1RvEGnWGkLdareyNc63pVtDHFd%2BfAHa4XaLNwElaQeXxPg39ur4jfFzxHonx4svtNrp3jz4Zfs76rH4UbX737DpU/iLxdrttfyQfZp4tzmLyUZjlJ1tYVmSWJfKPSdh9h%2BGP2TvgR4JsdEsPB3hO90pfDnga08HaJNp3iPUIZrTRbV43gtVlScOdpijzIWMjAEM7BmB0fjf8As9fCn9onRNP0P4paPqMw0jUTfaRf6J4ivtIvrG4MMsDPDeWE0NxFuhmmicJIA6SMrAqSK%2BTfgn%2B1T%2B1B8bv2pPhB4w1PxV4R/sTx38LfH%2Bt%2BHPh7pV1e6e1rJZ3%2BjQW0GrSma4S6lj80o1wltEbaR7hFikzk%2B3ftv6t4kn0z4UfDeXxVqvh3SPHfxXsND8Z6l4b1240%2B6hszp9/dJBDe27RT2/n3trZ2vmRtHIy3BVSpcUAehSfs7/CxPAY%2BGGjWOsaLoEXhyw0Ky0zwz4r1HSo9PsbMk26Wn2O4iNm6g7TLAUldERGdljRV527/AGJf2fp/h5p3wtsbDxbpekabdXlyDoHxL17Tbu9nu3MlzLe3drex3F%2B8rku7XMkpZjuJJ5ry/wCEWo/tC/FP/gm3430P4T/Em7n8aWepeO/DngHxZrGqlri4t9P17VNP0y4kvJQ5aU2ttAPtbhy7YnbfuOeK/Z9s/ir8WdO%2BN/wLPgvx9YWHhLxTox8E%2BHvHH7QmrWmqw38ulRT3en3fiDSbq%2BukjG5LoQrNdbVuk3KqssUQB9Can%2Bwv%2BytqfiXwv4ob4UpaS%2BDtN0nT9CsNL1i9s9PFrpcxn0yGexgmS2vEs5SZbcXEcggcl49jHNW/Dv7Gv7N3hf4nax8XtK%2BHRbWNcj1BL2K91m9utPj%2B3ukl%2B1vYTTPaWj3Txq87wRRtO2TIXLEn4Kn%2BNXxc8X/s0alr/jD9pLxlpmr/AAu/Zr8ReKfDV/pfiy7the%2BJ9O1jUbOZrh4Zh/bsFm9hZWy/aPNiu0vBLJGXuF2/Wmg23iPRf%2BCl2l3c3jLxWkHjD4HajqmteFb7xXe3Gk2l7a3%2BjW8b29jJKbe2dUlmDPGis5lcsWzwAen/AAL/AGW/gl%2Bze2pT/Cbw3qFtcatb2lte3useJdQ1a5NraiQWtok1/PNJFbQ%2BdN5VujLFGZpCiKXbPW%2BD/wDkEzf9hW%2B/9K5a1Ky/B/8AyCZv%2Bwrff%2BlctAGpRRRQAUUUUAFFFFABRRRQAUUUUAFFFFABRRRQAUUUUAFFFFABRRRQAUUUUAFeM/sv/wDJb/2jv%2ByzWP8A6hXhevZq8Z/Zf/5Lf%2B0d/wBlmsf/AFCvC9AHs1FFFABRRRQAUUUUAFFFFABRRRQAUUUUAFFFFABRRRQAUUUUAFFFFABRRRQAV4z44/5SF/C//sjPjz/07eEK9mr5w/aP1f416P8At4fCef4HfD/wt4i1JvhH47W7tPFfjC50WCOD%2B1PCRLpLb6fes77to2GNRgk78gKQD6Porxn/AITj/goX/wBGv/Bn/wAPxq3/AMy9H/Ccf8FC/wDo1/4M/wDh%2BNW/%2BZegD2aivGf%2BE4/4KF/9Gv8AwZ/8Pxq3/wAy9H/Ccf8ABQv/AKNf%2BDP/AIfjVv8A5l6APZqK%2BcdJ/aO/bt1j4z6/8Drf9lD4SLqnh3wvpGu3ly/x11TyJINRudSt4UQjwxuLq2lzlgVAAePBYlgvUf8ACcf8FC/%2BjX/gz/4fjVv/AJl6APZqK8Z/4Tj/AIKF/wDRr/wZ/wDD8at/8y9H/Ccf8FC/%2BjX/AIM/%2BH41b/5l6APZqK8Z/wCE4/4KF/8ARr/wZ/8AD8at/wDMvXL%2BAf2jv27fiJ4r8b%2BENH/ZQ%2BEkNx4D8URaFqslz8ddUCTzyaVp%2Bph4tvhgkp5OowqSwU70cYwAzAH0dRXjP/Ccf8FC/wDo1/4M/wDh%2BNW/%2BZej/hOP%2BChf/Rr/AMGf/D8at/8AMvQB7NRXjP8AwnH/AAUL/wCjX/gz/wCH41b/AOZej/hOP%2BChf/Rr/wAGf/D8at/8y9AHs1FfOPwi/aO/bt%2BMvhS78X%2BHP2UPhJbW9n4o1vQpI73466ormfS9VutMncbfDDDY01pIyHOSjKSFOVHUf8Jx/wAFC/8Ao1/4M/8Ah%2BNW/wDmXoA9lZVYFWAIPUGsvUPAvgnVs/2r4O0q5z1%2B0afE%2BfzWvLv%2BE4/4KF/9Gv8AwZ/8Pxq3/wAy9H/Ccf8ABQv/AKNf%2BDP/AIfjVv8A5l6TjGW6uTKMZK0lc7a//Z5%2BAOq5/tT4HeD7nPX7R4ZtXz%2BcdY17%2Bxr%2ByDqWf7R/ZU%2BG1xnr5/gbT3z%2BcNYX/Ccf8FC/%2BjX/AIM/%2BH41b/5l65f4I/tHft2/Hj4MeEPjj4V/ZQ%2BElrpfjPwvp%2Bu6bbah8ddUWeGC7to7iNJAnhhlDhZAGCswyDgkc1jLC4WXxU4v/t2P/wAiYSwWDn8VKL9Yxf8A7adfef8ABPr9hC/z9o/Yw%2BFeT1MfgDT0P5rCKy7v/gmV/wAE%2Bb3Pnfsc/D5c/wDPHw3DH/6CBV3/AITj/goX/wBGv/Bn/wAPxq3/AMy9H/Ccf8FC/wDo1/4M/wDh%2BNW/%2BZesnl2XS3ow/wDAI/8AyJhLKcqlvh6f/gEP/kDAuv8Agk//AME5bzPm/sh%2BEBn/AJ5Wjp/6C4rOuf8Agjx/wTTu/wDW/smaCP8ArleXif8AoMwrsP8AhOP%2BChf/AEa/8Gf/AA/Grf8AzL1y/wAbv2jv27fgP8GPF/xx8VfsofCS60vwZ4X1DXdSttP%2BOuqNPNBaW0lxIkYfwwqlysZChmUZIyQOayeUZS98PD/wCP8AkZPIsjlvhaf/AILh/wDImRc/8EVP%2BCYV1nzf2VbAZ/55%2BItUT/0G6FUZ/wDghr/wS2nOf%2BGYAh9Y/GetD/28xXpv/Ccf8FC/%2BjX/AIM/%2BH41b/5l6P8AhOP%2BChf/AEa/8Gf/AA/Grf8AzL1DyPJXvhqf/gEf8jJ8OcPPfB0v/Bcf8jyaf/ghB/wS/m%2B5%2Bz9eRf7njPVj/wChXJqnP/wQN/4JmS/6v4PavF/ueML/APrKa9l/4Tj/AIKF/wDRr/wZ/wDD8at/8y9H/Ccf8FC/%2BjX/AIM/%2BH41b/5l6h8P5E/%2BYWn/AOAo1jkeTU/gw8V6K35NHh83/Bv5/wAE15fufDzxFH/ueLbr%2BrGqs3/BvZ/wTjk/1fhjxbH/ALniqT%2BqmvUvi7%2B0d%2B3b8GvClp4v8R/sofCS5t7zxRomhRx2Xx11RnE%2Bqara6ZA53eGFGxZruNnOchFYgMcKeo/4Tj/goX/0a/8ABn/w/Grf/MvUPhzIH/zCw/8AAUdEcuwcPhi16SqL8qqPnyX/AIN3v%2BCdsn3LHxsn%2B54o/wAYjUP/ABDufsDx82WvfEa29PI8UxDH525r6J/4Tj/goX/0a/8ABn/w/Grf/MvR/wAJx/wUL/6Nf%2BDP/h%2BNW/8AmXqf9WeH/wDoFh93/BNlh4raU/8AwbW/%2BXnzyn/Bvj%2Bxtb/8ePxc%2BL9tjp5HjG3GP/JSrEP/AAQR/ZntP%2BPH9pb47W%2BOnkeO7df/AGzr37/hOP8AgoX/ANGv/Bn/AMPxq3/zL1y/j79o79u34d%2BK/BHhDWP2UPhJNcePPFEuhaVJbfHXVCkE8elahqZeXd4YBCeTp0ygqGO90GMEsrXDeQrbDx/H/wCSJlhact5T/wDBtb/5eebW/wDwQ5%2BDVl/x4ftmftGW/p5PxHgXH/knWhbf8EaPBlj/AMeH7fv7UEHp5XxUjX%2BVpXsP/Ccf8FC/%2BjX/AIM/%2BH41b/5l6P8AhOP%2BChf/AEa/8Gf/AA/Grf8AzL1a4fyaO1FffP8A%2BTOeeU4Gp8Sk/wDuJW/%2BXnlCf8EjzbLix/4KUftVw%2Bm34t/4Wwqr8Cf2S9T/AGXP%2BChvg46h%2B1D8U/iQuu/Bnxj5Y%2BJnik6mdN8nVvC2fs5Kr5fmeaN/97yo/wC7XsP/AAnH/BQv/o1/4M/%2BH41b/wCZeqHgfwP%2B1Z4x/as8OfG743fDj4e%2BGdG8M/D3xDocMPhX4h32tXV3dalfaJcIzJcaRYpFGiaXKCwd2LSoAuMkb0Mpy/DVVUpQtJf3pv8ABza/AWHyjLsLVVWlC0l15pv/ANKqSX4M91ooor0T0gooooAKKKKACvnL9iHwxpvhb9njxZe2PmEXv7Q3j/U752GcH/hPNU3twOipGPwWvo2vkr9krxZ%2B2dp/w98UWfwx%2BAfww1fQk%2BNPxF/s/Ude%2BLuo6bdzL/wmesljJbRaBcpEQ24ACZ8gA5BO0JpNp9i41KkYSgnpK1/Ozuvuep9Qf8Jz4J/6HDS//BhH/wDFUv8AwnPgn/ocNK/8GEf/AMVXlv8AwnH/AAUL/wCjX/gz/wCH41b/AOZej/hOP%2BChf/Rr/wAGf/D8at/8y9Mg9S/4TnwT/wBDhpX/AIMI/wD4qj/hOfBP/Q4aV/4MI/8A4qvLf%2BE4/wCChf8A0a/8Gf8Aw/Grf/MvR/wnH/BQv/o1/wCDP/h%2BNW/%2BZegDUvvgZ%2BxRqnw40n4O6n8HfhbceEdAvftmheFZ/D2mvpum3O6RvOgtinlQybpZTvRQcyOc/Mc6Gn/Dj9lHSbW1stK8B/D22hsrTSbSyht9LsUW3g0ueS40yJAFARLSeWWW3UYEEkjvGFZiT5n8Ef2jv27fjx8GPCHxx8K/sofCS10vxn4X0/XdNttQ%2BOuqLPDBd20dxGkgTwwyhwsgDBWYZBwSOa6j/hOP%2BChf/Rr/AMGf/D8at/8AMvQBq2PwP/Yq0vxTrfjnTPhB8LrfW/EsF1D4j1iDw/pqXWqx3WPtKXMoTfOsu1fMDkh8DdnFdB430r4AfEzwRc/DL4kab4O8QeG7yFIrvw9rkNpd2M8aMrIjwSho2VWVSAVwCoI6CuK/4Tj/AIKF/wDRr/wZ/wDD8at/8y9H/Ccf8FC/%2BjX/AIM/%2BH41b/5l6AOqHgn9mEeHrfwiPCPgMaTaeG5/D1rpf2Cy%2Bzw6ROI1m05I9u1bWQQxB4APLYRICp2jGHdfs%2BfsMX3wttfgde/BD4TzeCrK/N9Z%2BD5fDWmNpcF0d%2BZ0tDH5KSfvH%2BcKG%2BdueTXE/G79o79u34D/AAY8X/HHxV%2Byh8JLrS/BnhfUNd1K20/466o080FpbSXEiRh/DCqXKxkKGZRkjJA5rqP%2BE4/4KF/9Gv8AwZ/8Pxq3/wAy9AG74g%2BE37IHiyx8MaX4q%2BGnw21O28Eyxy%2BDLfUNG0%2BaPQHQIEayV0ItSojTBi2kbFx0FV774H/sVap8Z4v2jtS%2BEHwtuPiHAVMPjyfw/pr61GViEK7b0p54xEBGMPwoC9OKyv8AhOP%2BChf/AEa/8Gf/AA/Grf8AzL0f8Jx/wUL/AOjX/gz/AOH41b/5l6APUf8AhOfBP/Q4aX/4MI//AIqjwYd%2BhmdQdk19dyxEjG5HuZGVvoVII9jXl3/Ccf8ABQv/AKNf%2BDP/AIfjVv8A5l65f4u/tHft2/BrwpaeL/Ef7KHwkube88UaJoUcdl8ddUZxPqmq2umQOd3hhRsWa7jZznIRWIDHCkA%2BjqK8Z/4Tj/goX/0a/wDBn/w/Grf/ADL0f8Jx/wAFC/8Ao1/4M/8Ah%2BNW/wDmXoA9morxn/hOP%2BChf/Rr/wAGf/D8at/8y9H/AAnH/BQv/o1/4M/%2BH41b/wCZegD2aivnHx9%2B0d%2B3b8O/FfgjwhrH7KHwkmuPHniiXQtKktvjrqhSCePStQ1MvLu8MAhPJ06ZQVDHe6DGCWXqP%2BE4/wCChf8A0a/8Gf8Aw/Grf/MvQB7NRXjP/Ccf8FC/%2BjX/AIM/%2BH41b/5l6P8AhOP%2BChf/AEa/8Gf/AA/Grf8AzL0AezUV4z/wnH/BQv8A6Nf%2BDP8A4fjVv/mXrl9W/aO/bt0f4z6B8Drj9lD4SNqniLwvq%2Bu2dynx11TyI4NOudNt5kcnwxuDs2qQFQFIISTJUhQwB9HUV4z/AMJx/wAFC/8Ao1/4M/8Ah%2BNW/wDmXo/4Tj/goX/0a/8ABn/w/Grf/MvQB7NRXjP/AAnH/BQv/o1/4M/%2BH41b/wCZej/hOP8AgoX/ANGv/Bn/AMPxq3/zL0AezUV846T%2B0d%2B3brHxn1/4HW/7KHwkXVPDvhfSNdvLl/jrqnkSQajc6lbwohHhjcXVtLnLAqAA8eCxLBeo/wCE4/4KF/8ARr/wZ/8AD8at/wDMvQB7NRXjP/Ccf8FC/wDo1/4M/wDh%2BNW/%2BZej/hOP%2BChf/Rr/AMGf/D8at/8AMvQB7NRXjP8AwnH/AAUL/wCjX/gz/wCH41b/AOZeuX8A/tHft2/ETxX438IaP%2Byh8JIbjwH4oi0LVZLn466oEnnk0rT9TDxbfDBJTydRhUlgp3o4xgBmAPo6ivGf%2BE4/4KF/9Gv/AAZ/8Pxq3/zL0f8ACcf8FC/%2BjX/gz/4fjVv/AJl6APZq8Z/Zf/5Lf%2B0d/wBlmsf/AFCvC9H/AAnH/BQv/o1/4M/%2BH41b/wCZerf7K3w5%2BNPg/WPih47%2BOmgeF9J1Tx98Qotcs9K8J%2BJbnVre1tYtB0fTFV7i4srNmkaTTpXKiLaFkQbmOcAHrdFFFABRRRQAUUUUAFFFFABRRRQAUUUUAFFFFABRRRQAUUUUAFFFFABRRRQAV8r/ALT37Wnxc%2BGHxj8Wa14B8O%2BD5PDHwf8AD/h%2B98anWtIuJtV1S31e/lS5gsLiO4jSy8i2s47jMkU4uZCkZEPl%2BafqivGfjP8AsQ/Dj43fFI/EzXPHPirS4tRtdItfF/hrRrq1TTvFMGl3sl7YxXyy28kwWOaaXP2eWAyxyGKYyxhUAB7NRRRQAUUUUAfMfhz9pX4mQ/t/%2BKPg/wDEbWPD3hPw2viC00TwZFqPwi1lLrxjANAg1HEHiNrtdOaWO7udQAtBC8nl2kwCgs0i/TleV%2BLP2WoPH/xk0j4p%2BPfjf411fSvD2ux61oHgC4OmRaNY6hHbvBHOGhskvZdnmSSKk11JGJH3bPkQL6pQAUUUUAeL/wDBQX4u/HD9n79kfxp8evgFe%2BFI9Y8E6Fd65dQeMNFub62u7S1tpZnt0S2urZkldkRRIXKoCxKPwK8/8eftafFzwX8ePFup%2BFPDvhCL4eeEPjH4R%2BH3jKzm0i4Ot6rquuwaKkeoQ3aXCwxxwf25pMZikt5XkSGfEse1BXsP7WP7ONl%2B1p8CNe/Z91r4q%2BKfCOk%2BJ7KWx1y/8ILp32u5spYnimtt1/aXUaI6vyyIsgKja6854uD9gHwdP8RbP4i%2BKvjj4%2B11jrOk654m0bUJdKisfE%2BuaYkaWOrXsdtYRMtxEILTC2zQQMbG2LxMY8kA97ooooAK8X/bJ%2BLvxw%2BCVr4B8Y/Cy98Kf2NqHxM8OeHvF9j4g0W5ubq5tdV1mx00GzlhuoUtpI1uZZN8iTqSiLs5Jr2ivKv2rv2W3/aq8N6F4Xn%2BPvjfwNb6F4ksNdRvBcOjs93e2N5BeWbSnUtPvBtiuLeNwsYQNysm9TtAB5x%2Bzz%2B0r8TNb/aq8W/BH4oav4e8J6dD4p1u38E%2BEpPhFrOmXOvW0LpKb%2B31q4u/sGoOxkmllitoC/JdiuGJ%2BnK8l0n9lEP8ZNF%2BMvxH/aA8d%2BNZvC93eXfhPQvEI0mGw0e6ubeS1kuIlsNPtpZX%2BzzTwr58kqos77QCQR61QAUUUUAeH/t3fFz48fs/fBrV/jr8KPGPgWx0/wALaLc3l7ovizwze39z4hvcotnplnJbXsH2ea4lIt0byrpmlniCwsflbz/4I/tffGfXPiX4K/tbwZ4S0j4aeN/if4o%2BG3hXw1p2lzR6vol/oEOrb557kXDW80EjeH9TRYY7eIxq1sfMkywHp/7Sv7IMH7SXjzwR8QJv2gfHfhC58A3dze6LY%2BGItGns5L2VBGt5NBqenXiPPDH5iwyAKYxPKR8zZFXwH%2Bw18PfAfxlt/i7D8RfF2pQadrup69onhDUrmy/snStb1GN49Q1SBIrVJ/PnE92WV5nhRr65McUfmcAHtdFFFABXy/8Atc/Hj9pf4LfETT/CmlQ%2BAPGuj%2BOYdattF%2BHMXg%2B%2Bk1hLW00O6u5L%2B4nF68V1bC6it7aSEWsQP2%2BFBMZGRJPqCvDpv2JriP8AaP8AFf7TWiftV/EvTtX8W6bDp1zpcMHh%2Be00%2BzhgaOG2s2udJlubeJZXe62LNtedy7hwdtADP2EP2g/G/wAe/h7eXXxX8faNfeLtOFm2v%2BG7L4Xav4RvNAee2WUQXNlq91PcOC2/y7gBI5FQ7Q20mvdK83%2BB37N2nfBnxP4k%2BIesfFLxT448VeK4rG31jxP4uawW5e0sxN9ltUi0%2B1tbaOKNrm5cbYQzNcSFmbIx6RQAUUUUAfHP/BQT9uP4qfsYeOf7T1zRdA8Y%2BEX0bUdbt/Csvw51Oylt003Rr7Ukk/4SKa6fTJ7v7Xpo2WKwJdCOZZQNsLSN69%2BzR8Xfjnq3xU8b/s9ftHXPhTUPE/hHSdD1qPWvBWkXNhY3NjqgvI0iMFzc3LrLFcaddqX83EiGJtkZJUVvjr%2Bwl4I/ac1q6tfj/wDFvxr4o8F3MlxIvwyvJNNh0WKSaxmsmbfb2Ud9IBHcTMElunQO%2B7b8iBen/Z8/Zm0j4B3mveIrv4oeLPHHiPxIbOPVvFXjW4s3vpba0iMVraj7HbW8KxRB5WGI97PPK7s7OTQB6VRRRQAV8R/tT/tlftZ/Bv41eIPhR4O8N%2BHPGup2Gi3Gu%2BGAnwP8QRyaKBqOmWqGFvtzjxNILHVLjzv7L8p4WhKyiMTCOvtyvD9e/Yt1PxL49PxO1r9rn4oza3p8F5F4NvCmgAeFVupoZJ/skY0nZOzRwLb7r1bpliZwpV3ZyAdV%2Byx8WH%2BMnwjg8WXvxM0bxVfw6jdWWqX2jeDL7w6La4ilZWtZtN1C4nurOeMYV45nD5%2BbaoYCvRq4b4B/AXw98APDOp6NpXinW/EGo6/r1xrfiTxJ4jmga91W/mCI08ot4oYExHFDEqQxRxqkSAKMEnuaACiiigAooooAKKKKACiiigCj4o8Q2HhLw1qPivVQ5tdMsZru5ES5by40LtgdzhTXzn%2BxN%2B0n8a/H/inR/Bnxs8PeDLMeOvhbZfEbwzD4M0q4tBpkd5cE3en3ZmuJRdzRvc2z/bEEAnaWYmCPaC/0td2lrf2stje26TQzRtHNFKoZXUjBUg8EEcYryH9mb9ivwF%2BzBqr6voHxB8W%2BJZbbwxY%2BGfDo8WXtrMNA0KzeR7fTbU29vCWjUyfNLOZriQRxeZM/lrgA9iooooAK4X9qDx58RfhZ%2BzR8RPid8H/Ci694t8OeBdX1TwtobWM10NR1G3s5Zba2MMDLLMJJURPLjYO27CkEg13VZ3i3RL/xL4Y1Dw/pfivUdCub20kht9a0hYGurF2UgTRC4iliLqeQJI3TI%2BZWGQQDy79in4tT/FD4Z31lq3xC8P6zqfh3VV0680zRPhhqfg59DQW0EkVncaVqlzPcwuEcSK7eWjxSxbEwN7%2BxV558B/2dtJ%2BB154l8R3PxE8SeMfEni/UYbzxF4p8VvZi7ujDbpbwRCOxtra2iijjQBVjhTJZ2YszMx9DoAKKKKAPlz9qj9rH4ofs4fF7xxZfErRvCXiL4X2H7O/i/wAe22hW%2BiXCaq7aINLWe2uLmS5e3minW%2BnAQWyFQiZd8sK7f9mf4v8Ax81T4ueMv2df2ln8JXnijwx4Y8PeJY9V8FaTc2NlJZas%2BpW62xhubm5cyw3GkXYMokCyI8TeXGdy1B8Y/wBhXw78dPjq3xl8efHbxzLps3grU/CN98PYYNF/sS70bUltvt9pIX01r0idrSB2cXQdShCMiMyHpP2d/wBl3Q/2fb7WvEc/xQ8W%2BN/EOv2thZX/AIn8bXNpJemwsUkWzsx9ktrePyojPcOCUMjvcyu7uzZoA9PooooAK%2BRPjX%2B0v%2B1t4M139oDwJb%2BFfBniy98BeH/CniT4bWOk/D/U7%2BdY9R1XUoQl5axXjy6jPAumxzqbYW5LkhV%2BVWr67rwuX9ijxDF8dPG3x/0L9tD4raVq3jfSLHTLmxsrPww1ppttZXFzPZpbCXRXk/dG8ulBmeUus5EnmFUKgHV/sqfFub4y/CkeJtR%2BJ2jeKdRtdVubHVrrR/BF/wCGzZ3ETfNaz6ZqNxPdWk6KV3JMwYhlbaqsK9JrhPgH8A9A%2BAOhazY6f4t1zxHqvibxBLrnifxN4klt2vdVv5IYYPNkFtDDBGFgt7eFUiijRUhQBc5J7ugAooooA%2BNv2lv2u/2lv2ePjNB8NtZT4Z%2BNb7W4IJvCMOneFr20l8F3mpeIdM8PaRNqcr30wuop21ecFols5HFjdLGGXzDF7j%2Byr8X/AIkfEYeP/h98Yjok/ir4aePG8NazqvhrTprOw1PzNL07Vre4ht5p55LfNrqlujxtNLiSOTDEEY4W2/4Jq%2BEmuviG/iH9pf4nazb/ABJ1465rFvqR0LzLPUoriGfT7m2uotLS6U2D29uLSN5pIolhQMj859Y%2BAfwF0P4B%2BHtW02y8X654k1bxFr02teJ/FHiV7Y3%2Br30kcUPnTC1gggXZBBbwIkUUaLHBGoXgkgHdUUUUAMuftP2aT7Hs87YfK83O3djjOOcZr4g%2BK37XP7afw0%2BImufDa3tvAfjPXvDF74at9W8deCPgrr%2BrR%2BHLfVmvHvbCXSrPUp7u5mjhsrG6JinT93dQtLAgMTSfb13DJcWstvDdSQPJGyrPEFLxkjAZdwK5HUZBHqDXz38GP2AvEHwE%2BG1x8NPh3%2B3V8Yoo7rVn1ObWbyy8Jz6hLdyvLJczzTPoR%2B0yTvLukknEj5jTYUAwQD1n4CfEOy%2BK3wd8P/EKw%2BIGjeKk1PTxI%2Bv%2BH9JmsLS7kBKyFLWeaaW2KurI0MkjvGysrHcpA6%2BuS%2BBfwX8Jfs%2B/C/TvhT4Kub%2B4srCW6uJr7VbkTXV9d3VzLdXV1M4VQ0s1xPNK%2B1VXdIdqquFHW0AFUfE8PiS58N6hb%2BDdTsbLV5LKVdLvNTsHuraC4KERySwxyxNNGrYLIskZYAgOpO4XqzfGOg3/AIo8LX/h3S/FupaDc3lq8UGtaOIDdWLkcTRC4iliLqeQJI3Q4%2BZWGRQB8PfDf9uz9rX4wfFPW/gl8LNN%2BHyeM9NtddvpPGfiv4Xa1oa6ppmkWuiypYy6JeXyahp8r3fiHYk08zx%2BVDJcJC6zoD9jfAL4tab8fPgT4K%2BOujabLZ2fjXwlpuvWlnM%2B54Iry1juFjYgDJUSAE%2BorxbV/wDgmR4H1rXL74i3f7SnxTT4gasl5a618Sba90iHVr/TLq2tbabTCiaaLOG2KWVow8i2ilWSBZVlDlmP0H4L8H%2BGvh54O0nwB4M0mLT9H0PTINP0mwhzstraGNY4o1zzhUVVH0oA06KKKAOX%2BNOo%2BONG%2BFuta38OfENjperWFmbqG%2B1Dwfe%2BIESOMh5QNOsZ4Lm8kaJXVIoZA5dlwrn5G%2BLfhL/wUR%2BP3iTxpoep%2BN7jwj4E8GalPOviDxxefAzxFNbaxfw6/daQiXMq30aeGZ5LW0tf3GqNJLA8qxvnYEr7b%2BJngzXfHvhKbw54b%2BKWv%2BDbySWN4tf8MxWL3cG1gSqrf21zAwYAqQ8TcE4wcEeK3X/BObwpqHg%2B4%2BG2rftIfE278Ma5qE1/480Ca40cReMLue8a6uJr6VdNFxF5pZYWjs5bWIQxJGqKN24A%2BiaKKKACiiigAooooAKKKKACiiigAooooAKKKKACiiigAooooAKKKKACiiigAooooAKKKKACiiigAooooAKKKKACiiigAooooAKKKKACiiigAooooAKKKKACiiigAooooAKKKKACiiigAooooAKKKKACiiigAooooAKKKKACiiigAooooAKKKKACiiigAooooAKKKKACiiigAooooAKKKKACiiigAooooAKKKKACiiigAooooAKKKKACiiigAooooAKKKKACiiigAooooAKKKKACiiigAooooAKKKKACiiigAooooAKKKKACiiigAooooAKKKKAP/9k%3D\">"
      ]
     },
     "metadata": {},
     "output_type": "display_data"
    }
   ],
   "source": [
    "s.run(tf.global_variables_initializer())\n",
    "\n",
    "BATCH_SIZE = 512\n",
    "EPOCHS = 40\n",
    "\n",
    "# for logging the progress right here in Jupyter (for those who don't have TensorBoard)\n",
    "simpleTrainingCurves = matplotlib_utils.SimpleTrainingCurves(\"cross-entropy\", \"accuracy\")\n",
    "\n",
    "for epoch in range(EPOCHS):  # we finish an epoch when we've looked at all training samples\n",
    "    \n",
    "    batch_losses = []\n",
    "    for batch_start in range(0, X_train_flat.shape[0], BATCH_SIZE):  # data is already shuffled\n",
    "        _, batch_loss = s.run([step, loss], {input_X: X_train_flat[batch_start:batch_start+BATCH_SIZE], \n",
    "                                             input_y: y_train_oh[batch_start:batch_start+BATCH_SIZE]})\n",
    "        # collect batch losses, this is almost free as we need a forward pass for backprop anyway\n",
    "        batch_losses.append(batch_loss)\n",
    "\n",
    "    train_loss = np.mean(batch_losses)\n",
    "    val_loss = s.run(loss, {input_X: X_val_flat, input_y: y_val_oh})  # this part is usually small\n",
    "    train_accuracy = accuracy_score(y_train, s.run(classes, {input_X: X_train_flat}))  # this is slow and usually skipped\n",
    "    valid_accuracy = accuracy_score(y_val, s.run(classes, {input_X: X_val_flat}))  \n",
    "    simpleTrainingCurves.add(train_loss, val_loss, train_accuracy, valid_accuracy)"
   ]
  },
  {
   "cell_type": "markdown",
   "metadata": {},
   "source": [
    "# MLP with hidden layers"
   ]
  },
  {
   "cell_type": "markdown",
   "metadata": {},
   "source": [
    "Previously we've coded a dense layer with matrix multiplication by hand. \n",
    "But this is not convenient, you have to create a lot of variables and your code becomes a mess. \n",
    "In TensorFlow there's an easier way to make a dense layer:\n",
    "```python\n",
    "hidden1 = tf.layers.dense(inputs, 256, activation=tf.nn.sigmoid)\n",
    "```\n",
    "\n",
    "That will create all the necessary variables automatically.\n",
    "Here you can also choose an activation function (remember that we need it for a hidden layer!).\n",
    "\n",
    "Now define the MLP with 2 hidden layers and restart training with the cell above.\n",
    "\n",
    "You're aiming for ~0.97 validation accuracy here."
   ]
  },
  {
   "cell_type": "code",
   "execution_count": 170,
   "metadata": {},
   "outputs": [],
   "source": [
    "# write the code here to get a new `step` operation and then run the cell with training loop above.\n",
    "# name your variables in the same way (e.g. logits, probas, classes, etc) for safety.\n",
    "### YOUR CODE HERE ###"
   ]
  }
 ],
 "metadata": {
  "kernelspec": {
   "display_name": "Python 3",
   "language": "python",
   "name": "python3"
  },
  "language_info": {
   "codemirror_mode": {
    "name": "ipython",
    "version": 3
   },
   "file_extension": ".py",
   "mimetype": "text/x-python",
   "name": "python",
   "nbconvert_exporter": "python",
   "pygments_lexer": "ipython3",
   "version": "3.7.0"
  }
 },
 "nbformat": 4,
 "nbformat_minor": 1
}
